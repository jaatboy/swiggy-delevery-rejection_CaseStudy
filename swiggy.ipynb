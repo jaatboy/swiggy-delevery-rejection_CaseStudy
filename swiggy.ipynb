{
  "nbformat": 4,
  "nbformat_minor": 0,
  "metadata": {
    "colab": {
      "name": "swiggy",
      "provenance": []
    },
    "kernelspec": {
      "name": "python3",
      "display_name": "Python 3"
    },
    "language_info": {
      "name": "python"
    }
  },
  "cells": [
    {
      "cell_type": "code",
      "metadata": {
        "colab": {
          "resources": {
            "http://localhost:8080/nbextensions/google.colab/files.js": {
              "data": "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",
              "ok": true,
              "headers": [
                [
                  "content-type",
                  "application/javascript"
                ]
              ],
              "status": 200,
              "status_text": ""
            }
          },
          "base_uri": "https://localhost:8080/",
          "height": 106
        },
        "id": "logv24zIBKl-",
        "outputId": "554b983c-8eaa-4f53-f6a3-d1cbafffce71"
      },
      "source": [
        "from google.colab import files\n",
        "uploaded = files.upload()"
      ],
      "execution_count": 1,
      "outputs": [
        {
          "output_type": "display_data",
          "data": {
            "text/html": [
              "\n",
              "     <input type=\"file\" id=\"files-353eb572-3a77-498e-8e7f-f4ef07fd0677\" name=\"files[]\" multiple disabled\n",
              "        style=\"border:none\" />\n",
              "     <output id=\"result-353eb572-3a77-498e-8e7f-f4ef07fd0677\">\n",
              "      Upload widget is only available when the cell has been executed in the\n",
              "      current browser session. Please rerun this cell to enable.\n",
              "      </output>\n",
              "      <script src=\"/nbextensions/google.colab/files.js\"></script> "
            ],
            "text/plain": [
              "<IPython.core.display.HTML object>"
            ]
          },
          "metadata": {
            "tags": []
          }
        },
        {
          "output_type": "stream",
          "text": [
            "Saving Assignment_Data.csv to Assignment_Data.csv\n",
            "Saving Delivery_Partners_Data.csv to Delivery_Partners_Data.csv\n"
          ],
          "name": "stdout"
        }
      ]
    },
    {
      "cell_type": "code",
      "metadata": {
        "id": "QL-MiD3H_Zup"
      },
      "source": [
        "import pandas as pd\n",
        "import numpy as np"
      ],
      "execution_count": 2,
      "outputs": []
    },
    {
      "cell_type": "code",
      "metadata": {
        "id": "uTiDet5K_Stn"
      },
      "source": [
        "Assignment_df=pd.read_csv('Assignment_Data.csv')\n",
        "Delivery_df=pd.read_csv('Delivery_Partners_Data.csv')"
      ],
      "execution_count": 3,
      "outputs": []
    },
    {
      "cell_type": "code",
      "metadata": {
        "colab": {
          "base_uri": "https://localhost:8080/",
          "height": 605
        },
        "id": "Y4QOmLhy_7A8",
        "outputId": "0ed35c19-e491-47d4-b5c6-40bcbb665e27"
      },
      "source": [
        "Assignment_df"
      ],
      "execution_count": 4,
      "outputs": [
        {
          "output_type": "execute_result",
          "data": {
            "text/html": [
              "<div>\n",
              "<style scoped>\n",
              "    .dataframe tbody tr th:only-of-type {\n",
              "        vertical-align: middle;\n",
              "    }\n",
              "\n",
              "    .dataframe tbody tr th {\n",
              "        vertical-align: top;\n",
              "    }\n",
              "\n",
              "    .dataframe thead th {\n",
              "        text-align: right;\n",
              "    }\n",
              "</style>\n",
              "<table border=\"1\" class=\"dataframe\">\n",
              "  <thead>\n",
              "    <tr style=\"text-align: right;\">\n",
              "      <th></th>\n",
              "      <th>ORDER_ID</th>\n",
              "      <th>DE_ID</th>\n",
              "      <th>ASSIGNMENT_START_TIME</th>\n",
              "      <th>ASSIGNMENT_END_TIME</th>\n",
              "      <th>reject_ind</th>\n",
              "      <th>reject_type</th>\n",
              "      <th>PLACED_TIME</th>\n",
              "      <th>DELIVERED_TIME</th>\n",
              "      <th>LASTMILE_DISTANCE</th>\n",
              "      <th>FIRSTMILE_DISTANCE</th>\n",
              "      <th>LAST_MILE_TIME_PREDICTED</th>\n",
              "      <th>PAYOUT_MADE_TO_DE</th>\n",
              "      <th>NUM_PING_COUNT_LAST10MIN</th>\n",
              "      <th>LAST_PING_TIME_LAST10MIN</th>\n",
              "      <th>CUSTOMER_ZONE</th>\n",
              "      <th>CUSTOMER_LAT</th>\n",
              "      <th>CUSTOMER_LNG</th>\n",
              "    </tr>\n",
              "  </thead>\n",
              "  <tbody>\n",
              "    <tr>\n",
              "      <th>0</th>\n",
              "      <td>2745</td>\n",
              "      <td>180976</td>\n",
              "      <td>2021-02-13 03:08:24.000</td>\n",
              "      <td>2021-02-13 03:38:26.000</td>\n",
              "      <td>0</td>\n",
              "      <td>NaN</td>\n",
              "      <td>2021-02-13 03:01:11.686</td>\n",
              "      <td>2021-02-13 03:43:26.000</td>\n",
              "      <td>320.9</td>\n",
              "      <td>320.0</td>\n",
              "      <td>314.0</td>\n",
              "      <td>1810.0</td>\n",
              "      <td>63</td>\n",
              "      <td>2021-02-13 03:07:34.000</td>\n",
              "      <td>373.0</td>\n",
              "      <td>37.377569</td>\n",
              "      <td>72.832560</td>\n",
              "    </tr>\n",
              "    <tr>\n",
              "      <th>1</th>\n",
              "      <td>9462</td>\n",
              "      <td>280243</td>\n",
              "      <td>2021-02-14 05:06:40.000</td>\n",
              "      <td>2021-02-14 05:31:04.000</td>\n",
              "      <td>0</td>\n",
              "      <td>NaN</td>\n",
              "      <td>2021-02-14 04:54:25.832</td>\n",
              "      <td>2021-02-14 05:36:04.000</td>\n",
              "      <td>516.8</td>\n",
              "      <td>342.5</td>\n",
              "      <td>451.0</td>\n",
              "      <td>3210.0</td>\n",
              "      <td>27</td>\n",
              "      <td>2021-02-14 05:06:40.000</td>\n",
              "      <td>373.0</td>\n",
              "      <td>37.380613</td>\n",
              "      <td>72.796909</td>\n",
              "    </tr>\n",
              "    <tr>\n",
              "      <th>2</th>\n",
              "      <td>14071</td>\n",
              "      <td>339813</td>\n",
              "      <td>2021-02-15 02:22:40.000</td>\n",
              "      <td>2021-02-15 02:44:02.000</td>\n",
              "      <td>0</td>\n",
              "      <td>NaN</td>\n",
              "      <td>2021-02-15 02:01:17.864</td>\n",
              "      <td>2021-02-15 02:49:02.000</td>\n",
              "      <td>459.5</td>\n",
              "      <td>418.7</td>\n",
              "      <td>443.0</td>\n",
              "      <td>2910.0</td>\n",
              "      <td>57</td>\n",
              "      <td>2021-02-15 02:22:35.000</td>\n",
              "      <td>373.0</td>\n",
              "      <td>37.372032</td>\n",
              "      <td>72.805871</td>\n",
              "    </tr>\n",
              "    <tr>\n",
              "      <th>3</th>\n",
              "      <td>14442</td>\n",
              "      <td>1315348</td>\n",
              "      <td>2021-02-15 03:01:25.000</td>\n",
              "      <td>2021-02-15 03:15:02.000</td>\n",
              "      <td>0</td>\n",
              "      <td>NaN</td>\n",
              "      <td>2021-02-15 02:43:41.129</td>\n",
              "      <td>2021-02-15 03:20:02.000</td>\n",
              "      <td>376.4</td>\n",
              "      <td>332.9</td>\n",
              "      <td>367.3</td>\n",
              "      <td>3210.0</td>\n",
              "      <td>41</td>\n",
              "      <td>2021-02-15 03:00:28.000</td>\n",
              "      <td>373.0</td>\n",
              "      <td>37.371380</td>\n",
              "      <td>72.819992</td>\n",
              "    </tr>\n",
              "    <tr>\n",
              "      <th>4</th>\n",
              "      <td>14515</td>\n",
              "      <td>1186729</td>\n",
              "      <td>2021-02-15 03:12:24.000</td>\n",
              "      <td>2021-02-15 03:50:24.000</td>\n",
              "      <td>0</td>\n",
              "      <td>NaN</td>\n",
              "      <td>2021-02-15 02:48:17.074</td>\n",
              "      <td>2021-02-15 03:55:24.000</td>\n",
              "      <td>414.5</td>\n",
              "      <td>334.1</td>\n",
              "      <td>413.2</td>\n",
              "      <td>3210.0</td>\n",
              "      <td>13</td>\n",
              "      <td>2021-02-15 03:12:09.000</td>\n",
              "      <td>373.0</td>\n",
              "      <td>37.369925</td>\n",
              "      <td>72.826764</td>\n",
              "    </tr>\n",
              "    <tr>\n",
              "      <th>...</th>\n",
              "      <td>...</td>\n",
              "      <td>...</td>\n",
              "      <td>...</td>\n",
              "      <td>...</td>\n",
              "      <td>...</td>\n",
              "      <td>...</td>\n",
              "      <td>...</td>\n",
              "      <td>...</td>\n",
              "      <td>...</td>\n",
              "      <td>...</td>\n",
              "      <td>...</td>\n",
              "      <td>...</td>\n",
              "      <td>...</td>\n",
              "      <td>...</td>\n",
              "      <td>...</td>\n",
              "      <td>...</td>\n",
              "      <td>...</td>\n",
              "    </tr>\n",
              "    <tr>\n",
              "      <th>132389</th>\n",
              "      <td>116618</td>\n",
              "      <td>1273445</td>\n",
              "      <td>2021-03-04 07:07:20.000</td>\n",
              "      <td>2021-03-04 07:37:54.000</td>\n",
              "      <td>0</td>\n",
              "      <td>NaN</td>\n",
              "      <td>2021-03-04 06:55:15.466</td>\n",
              "      <td>2021-03-04 07:42:54.000</td>\n",
              "      <td>404.6</td>\n",
              "      <td>434.6</td>\n",
              "      <td>371.8</td>\n",
              "      <td>3860.0</td>\n",
              "      <td>28</td>\n",
              "      <td>2021-03-04 07:06:25.000</td>\n",
              "      <td>374.0</td>\n",
              "      <td>37.365616</td>\n",
              "      <td>72.835463</td>\n",
              "    </tr>\n",
              "    <tr>\n",
              "      <th>132390</th>\n",
              "      <td>116618</td>\n",
              "      <td>234637</td>\n",
              "      <td>2021-03-04 07:05:20.000</td>\n",
              "      <td>2021-03-04 07:07:19.000</td>\n",
              "      <td>1</td>\n",
              "      <td>Type-1</td>\n",
              "      <td>2021-03-04 06:55:15.466</td>\n",
              "      <td>2021-03-04 07:42:54.000</td>\n",
              "      <td>404.6</td>\n",
              "      <td>444.8</td>\n",
              "      <td>371.8</td>\n",
              "      <td>0.0</td>\n",
              "      <td>63</td>\n",
              "      <td>2021-03-04 07:04:40.000</td>\n",
              "      <td>374.0</td>\n",
              "      <td>37.365616</td>\n",
              "      <td>72.835463</td>\n",
              "    </tr>\n",
              "    <tr>\n",
              "      <th>132391</th>\n",
              "      <td>118004</td>\n",
              "      <td>1018931</td>\n",
              "      <td>2021-03-04 20:47:34.000</td>\n",
              "      <td>2021-03-04 21:07:35.000</td>\n",
              "      <td>0</td>\n",
              "      <td>NaN</td>\n",
              "      <td>2021-03-04 20:41:54.521</td>\n",
              "      <td>2021-03-04 21:12:35.000</td>\n",
              "      <td>475.7</td>\n",
              "      <td>334.7</td>\n",
              "      <td>413.2</td>\n",
              "      <td>2660.0</td>\n",
              "      <td>8</td>\n",
              "      <td>2021-03-04 20:45:39.000</td>\n",
              "      <td>374.0</td>\n",
              "      <td>37.362292</td>\n",
              "      <td>72.861723</td>\n",
              "    </tr>\n",
              "    <tr>\n",
              "      <th>132392</th>\n",
              "      <td>119366</td>\n",
              "      <td>1180245</td>\n",
              "      <td>2021-03-04 23:37:20.000</td>\n",
              "      <td>2021-03-05 00:01:34.000</td>\n",
              "      <td>0</td>\n",
              "      <td>NaN</td>\n",
              "      <td>2021-03-04 23:35:22.194</td>\n",
              "      <td>2021-03-05 00:06:34.000</td>\n",
              "      <td>326.6</td>\n",
              "      <td>392.9</td>\n",
              "      <td>317.7</td>\n",
              "      <td>2260.0</td>\n",
              "      <td>28</td>\n",
              "      <td>2021-03-04 23:37:14.000</td>\n",
              "      <td>374.0</td>\n",
              "      <td>37.365457</td>\n",
              "      <td>72.862098</td>\n",
              "    </tr>\n",
              "    <tr>\n",
              "      <th>132393</th>\n",
              "      <td>121027</td>\n",
              "      <td>370946</td>\n",
              "      <td>2021-03-05 02:29:21.000</td>\n",
              "      <td>2021-03-05 02:52:50.000</td>\n",
              "      <td>0</td>\n",
              "      <td>NaN</td>\n",
              "      <td>2021-03-05 02:28:08.182</td>\n",
              "      <td>2021-03-05 02:57:50.000</td>\n",
              "      <td>429.5</td>\n",
              "      <td>337.1</td>\n",
              "      <td>396.8</td>\n",
              "      <td>2160.0</td>\n",
              "      <td>27</td>\n",
              "      <td>2021-03-05 02:28:17.000</td>\n",
              "      <td>374.0</td>\n",
              "      <td>37.371853</td>\n",
              "      <td>72.855686</td>\n",
              "    </tr>\n",
              "  </tbody>\n",
              "</table>\n",
              "<p>132394 rows × 17 columns</p>\n",
              "</div>"
            ],
            "text/plain": [
              "        ORDER_ID    DE_ID  ... CUSTOMER_LAT CUSTOMER_LNG\n",
              "0           2745   180976  ...    37.377569    72.832560\n",
              "1           9462   280243  ...    37.380613    72.796909\n",
              "2          14071   339813  ...    37.372032    72.805871\n",
              "3          14442  1315348  ...    37.371380    72.819992\n",
              "4          14515  1186729  ...    37.369925    72.826764\n",
              "...          ...      ...  ...          ...          ...\n",
              "132389    116618  1273445  ...    37.365616    72.835463\n",
              "132390    116618   234637  ...    37.365616    72.835463\n",
              "132391    118004  1018931  ...    37.362292    72.861723\n",
              "132392    119366  1180245  ...    37.365457    72.862098\n",
              "132393    121027   370946  ...    37.371853    72.855686\n",
              "\n",
              "[132394 rows x 17 columns]"
            ]
          },
          "metadata": {
            "tags": []
          },
          "execution_count": 4
        }
      ]
    },
    {
      "cell_type": "code",
      "metadata": {
        "colab": {
          "base_uri": "https://localhost:8080/",
          "height": 417
        },
        "id": "apcJ3cK7BzmF",
        "outputId": "9e0fd615-4950-497f-8c20-80dddf191a45"
      },
      "source": [
        "new_df=Assignment_df.iloc[:,[2,4]]\n",
        "new_df"
      ],
      "execution_count": 6,
      "outputs": [
        {
          "output_type": "execute_result",
          "data": {
            "text/html": [
              "<div>\n",
              "<style scoped>\n",
              "    .dataframe tbody tr th:only-of-type {\n",
              "        vertical-align: middle;\n",
              "    }\n",
              "\n",
              "    .dataframe tbody tr th {\n",
              "        vertical-align: top;\n",
              "    }\n",
              "\n",
              "    .dataframe thead th {\n",
              "        text-align: right;\n",
              "    }\n",
              "</style>\n",
              "<table border=\"1\" class=\"dataframe\">\n",
              "  <thead>\n",
              "    <tr style=\"text-align: right;\">\n",
              "      <th></th>\n",
              "      <th>ASSIGNMENT_START_TIME</th>\n",
              "      <th>reject_ind</th>\n",
              "    </tr>\n",
              "  </thead>\n",
              "  <tbody>\n",
              "    <tr>\n",
              "      <th>0</th>\n",
              "      <td>2021-02-13 03:08:24.000</td>\n",
              "      <td>0</td>\n",
              "    </tr>\n",
              "    <tr>\n",
              "      <th>1</th>\n",
              "      <td>2021-02-14 05:06:40.000</td>\n",
              "      <td>0</td>\n",
              "    </tr>\n",
              "    <tr>\n",
              "      <th>2</th>\n",
              "      <td>2021-02-15 02:22:40.000</td>\n",
              "      <td>0</td>\n",
              "    </tr>\n",
              "    <tr>\n",
              "      <th>3</th>\n",
              "      <td>2021-02-15 03:01:25.000</td>\n",
              "      <td>0</td>\n",
              "    </tr>\n",
              "    <tr>\n",
              "      <th>4</th>\n",
              "      <td>2021-02-15 03:12:24.000</td>\n",
              "      <td>0</td>\n",
              "    </tr>\n",
              "    <tr>\n",
              "      <th>...</th>\n",
              "      <td>...</td>\n",
              "      <td>...</td>\n",
              "    </tr>\n",
              "    <tr>\n",
              "      <th>132389</th>\n",
              "      <td>2021-03-04 07:07:20.000</td>\n",
              "      <td>0</td>\n",
              "    </tr>\n",
              "    <tr>\n",
              "      <th>132390</th>\n",
              "      <td>2021-03-04 07:05:20.000</td>\n",
              "      <td>1</td>\n",
              "    </tr>\n",
              "    <tr>\n",
              "      <th>132391</th>\n",
              "      <td>2021-03-04 20:47:34.000</td>\n",
              "      <td>0</td>\n",
              "    </tr>\n",
              "    <tr>\n",
              "      <th>132392</th>\n",
              "      <td>2021-03-04 23:37:20.000</td>\n",
              "      <td>0</td>\n",
              "    </tr>\n",
              "    <tr>\n",
              "      <th>132393</th>\n",
              "      <td>2021-03-05 02:29:21.000</td>\n",
              "      <td>0</td>\n",
              "    </tr>\n",
              "  </tbody>\n",
              "</table>\n",
              "<p>132394 rows × 2 columns</p>\n",
              "</div>"
            ],
            "text/plain": [
              "          ASSIGNMENT_START_TIME  reject_ind\n",
              "0       2021-02-13 03:08:24.000           0\n",
              "1       2021-02-14 05:06:40.000           0\n",
              "2       2021-02-15 02:22:40.000           0\n",
              "3       2021-02-15 03:01:25.000           0\n",
              "4       2021-02-15 03:12:24.000           0\n",
              "...                         ...         ...\n",
              "132389  2021-03-04 07:07:20.000           0\n",
              "132390  2021-03-04 07:05:20.000           1\n",
              "132391  2021-03-04 20:47:34.000           0\n",
              "132392  2021-03-04 23:37:20.000           0\n",
              "132393  2021-03-05 02:29:21.000           0\n",
              "\n",
              "[132394 rows x 2 columns]"
            ]
          },
          "metadata": {
            "tags": []
          },
          "execution_count": 6
        }
      ]
    },
    {
      "cell_type": "code",
      "metadata": {
        "colab": {
          "base_uri": "https://localhost:8080/"
        },
        "id": "BAMYKte-Bzvq",
        "outputId": "156456b4-c212-433b-f85b-3116870b7701"
      },
      "source": [
        "a=[1]*new_df.shape[0]\n",
        "new_df['count']=a"
      ],
      "execution_count": 16,
      "outputs": [
        {
          "output_type": "stream",
          "text": [
            "/usr/local/lib/python3.7/dist-packages/ipykernel_launcher.py:2: SettingWithCopyWarning: \n",
            "A value is trying to be set on a copy of a slice from a DataFrame.\n",
            "Try using .loc[row_indexer,col_indexer] = value instead\n",
            "\n",
            "See the caveats in the documentation: https://pandas.pydata.org/pandas-docs/stable/user_guide/indexing.html#returning-a-view-versus-a-copy\n",
            "  \n"
          ],
          "name": "stderr"
        }
      ]
    },
    {
      "cell_type": "code",
      "metadata": {
        "id": "Qqcwi3HcDrVv"
      },
      "source": [
        "def cln(row):\n",
        "  a=row['ASSIGNMENT_START_TIME'][:10]\n",
        "  return a"
      ],
      "execution_count": 19,
      "outputs": []
    },
    {
      "cell_type": "code",
      "metadata": {
        "colab": {
          "base_uri": "https://localhost:8080/"
        },
        "id": "giN-X1HZEG4O",
        "outputId": "07c24b0d-5b3d-471c-8bca-93ddfc42951d"
      },
      "source": [
        "new_df['ASSIGNMENT_START_TIME']=new_df.apply(lambda row: cln(row), axis=1)"
      ],
      "execution_count": 21,
      "outputs": [
        {
          "output_type": "stream",
          "text": [
            "/usr/local/lib/python3.7/dist-packages/ipykernel_launcher.py:1: SettingWithCopyWarning: \n",
            "A value is trying to be set on a copy of a slice from a DataFrame.\n",
            "Try using .loc[row_indexer,col_indexer] = value instead\n",
            "\n",
            "See the caveats in the documentation: https://pandas.pydata.org/pandas-docs/stable/user_guide/indexing.html#returning-a-view-versus-a-copy\n",
            "  \"\"\"Entry point for launching an IPython kernel.\n"
          ],
          "name": "stderr"
        }
      ]
    },
    {
      "cell_type": "code",
      "metadata": {
        "id": "wHr-fvX_Ehzj"
      },
      "source": [
        "new_df=new_df.groupby(['ASSIGNMENT_START_TIME']).sum()"
      ],
      "execution_count": 23,
      "outputs": []
    },
    {
      "cell_type": "code",
      "metadata": {
        "colab": {
          "base_uri": "https://localhost:8080/",
          "height": 758
        },
        "id": "AL8mI277E9rX",
        "outputId": "0b19203d-0551-4239-9746-cec6ba4f0f4d"
      },
      "source": [
        "new_df"
      ],
      "execution_count": 24,
      "outputs": [
        {
          "output_type": "execute_result",
          "data": {
            "text/html": [
              "<div>\n",
              "<style scoped>\n",
              "    .dataframe tbody tr th:only-of-type {\n",
              "        vertical-align: middle;\n",
              "    }\n",
              "\n",
              "    .dataframe tbody tr th {\n",
              "        vertical-align: top;\n",
              "    }\n",
              "\n",
              "    .dataframe thead th {\n",
              "        text-align: right;\n",
              "    }\n",
              "</style>\n",
              "<table border=\"1\" class=\"dataframe\">\n",
              "  <thead>\n",
              "    <tr style=\"text-align: right;\">\n",
              "      <th></th>\n",
              "      <th>reject_ind</th>\n",
              "      <th>count</th>\n",
              "    </tr>\n",
              "    <tr>\n",
              "      <th>ASSIGNMENT_START_TIME</th>\n",
              "      <th></th>\n",
              "      <th></th>\n",
              "    </tr>\n",
              "  </thead>\n",
              "  <tbody>\n",
              "    <tr>\n",
              "      <th>2021-02-12</th>\n",
              "      <td>139</td>\n",
              "      <td>1713</td>\n",
              "    </tr>\n",
              "    <tr>\n",
              "      <th>2021-02-13</th>\n",
              "      <td>445</td>\n",
              "      <td>5640</td>\n",
              "    </tr>\n",
              "    <tr>\n",
              "      <th>2021-02-14</th>\n",
              "      <td>511</td>\n",
              "      <td>6655</td>\n",
              "    </tr>\n",
              "    <tr>\n",
              "      <th>2021-02-15</th>\n",
              "      <td>356</td>\n",
              "      <td>6193</td>\n",
              "    </tr>\n",
              "    <tr>\n",
              "      <th>2021-02-16</th>\n",
              "      <td>307</td>\n",
              "      <td>5373</td>\n",
              "    </tr>\n",
              "    <tr>\n",
              "      <th>2021-02-17</th>\n",
              "      <td>428</td>\n",
              "      <td>5584</td>\n",
              "    </tr>\n",
              "    <tr>\n",
              "      <th>2021-02-18</th>\n",
              "      <td>403</td>\n",
              "      <td>7339</td>\n",
              "    </tr>\n",
              "    <tr>\n",
              "      <th>2021-02-19</th>\n",
              "      <td>379</td>\n",
              "      <td>6956</td>\n",
              "    </tr>\n",
              "    <tr>\n",
              "      <th>2021-02-20</th>\n",
              "      <td>347</td>\n",
              "      <td>5414</td>\n",
              "    </tr>\n",
              "    <tr>\n",
              "      <th>2021-02-21</th>\n",
              "      <td>364</td>\n",
              "      <td>5712</td>\n",
              "    </tr>\n",
              "    <tr>\n",
              "      <th>2021-02-22</th>\n",
              "      <td>333</td>\n",
              "      <td>5829</td>\n",
              "    </tr>\n",
              "    <tr>\n",
              "      <th>2021-02-23</th>\n",
              "      <td>431</td>\n",
              "      <td>5931</td>\n",
              "    </tr>\n",
              "    <tr>\n",
              "      <th>2021-02-24</th>\n",
              "      <td>319</td>\n",
              "      <td>6298</td>\n",
              "    </tr>\n",
              "    <tr>\n",
              "      <th>2021-02-25</th>\n",
              "      <td>403</td>\n",
              "      <td>7525</td>\n",
              "    </tr>\n",
              "    <tr>\n",
              "      <th>2021-02-26</th>\n",
              "      <td>388</td>\n",
              "      <td>6872</td>\n",
              "    </tr>\n",
              "    <tr>\n",
              "      <th>2021-02-27</th>\n",
              "      <td>337</td>\n",
              "      <td>6196</td>\n",
              "    </tr>\n",
              "    <tr>\n",
              "      <th>2021-02-28</th>\n",
              "      <td>290</td>\n",
              "      <td>6232</td>\n",
              "    </tr>\n",
              "    <tr>\n",
              "      <th>2021-03-01</th>\n",
              "      <td>316</td>\n",
              "      <td>5534</td>\n",
              "    </tr>\n",
              "    <tr>\n",
              "      <th>2021-03-02</th>\n",
              "      <td>364</td>\n",
              "      <td>5728</td>\n",
              "    </tr>\n",
              "    <tr>\n",
              "      <th>2021-03-03</th>\n",
              "      <td>450</td>\n",
              "      <td>6416</td>\n",
              "    </tr>\n",
              "    <tr>\n",
              "      <th>2021-03-04</th>\n",
              "      <td>454</td>\n",
              "      <td>7774</td>\n",
              "    </tr>\n",
              "    <tr>\n",
              "      <th>2021-03-05</th>\n",
              "      <td>284</td>\n",
              "      <td>5480</td>\n",
              "    </tr>\n",
              "  </tbody>\n",
              "</table>\n",
              "</div>"
            ],
            "text/plain": [
              "                       reject_ind  count\n",
              "ASSIGNMENT_START_TIME                   \n",
              "2021-02-12                    139   1713\n",
              "2021-02-13                    445   5640\n",
              "2021-02-14                    511   6655\n",
              "2021-02-15                    356   6193\n",
              "2021-02-16                    307   5373\n",
              "2021-02-17                    428   5584\n",
              "2021-02-18                    403   7339\n",
              "2021-02-19                    379   6956\n",
              "2021-02-20                    347   5414\n",
              "2021-02-21                    364   5712\n",
              "2021-02-22                    333   5829\n",
              "2021-02-23                    431   5931\n",
              "2021-02-24                    319   6298\n",
              "2021-02-25                    403   7525\n",
              "2021-02-26                    388   6872\n",
              "2021-02-27                    337   6196\n",
              "2021-02-28                    290   6232\n",
              "2021-03-01                    316   5534\n",
              "2021-03-02                    364   5728\n",
              "2021-03-03                    450   6416\n",
              "2021-03-04                    454   7774\n",
              "2021-03-05                    284   5480"
            ]
          },
          "metadata": {
            "tags": []
          },
          "execution_count": 24
        }
      ]
    },
    {
      "cell_type": "code",
      "metadata": {
        "id": "w2EygSgZIGP9"
      },
      "source": [
        "a=list(new_df.index)"
      ],
      "execution_count": 37,
      "outputs": []
    },
    {
      "cell_type": "code",
      "metadata": {
        "id": "tsyzc1GkGm7w"
      },
      "source": [
        "import matplotlib.pyplot as plt"
      ],
      "execution_count": 25,
      "outputs": []
    },
    {
      "cell_type": "code",
      "metadata": {
        "colab": {
          "base_uri": "https://localhost:8080/",
          "height": 354
        },
        "id": "fqCWWpBdGsQ6",
        "outputId": "473f007a-fc55-4fc6-c80d-0f53aea5fced"
      },
      "source": [
        "f = plt.figure()\n",
        "f.set_figwidth(30)\n",
        "f.set_figheight(8)\n",
        "plt.bar(a ,new_df['reject_ind'].values, color='r')\n",
        "plt.xlabel(\"Date\")\n",
        "plt.ylabel(\"No of rejected orders\")\n",
        "plt.title(\"Bar graph showing No. of orders rejected per day\")\n",
        "plt.legend()\n",
        "plt.show()"
      ],
      "execution_count": 42,
      "outputs": [
        {
          "output_type": "stream",
          "text": [
            "No handles with labels found to put in legend.\n"
          ],
          "name": "stderr"
        },
        {
          "output_type": "display_data",
          "data": {
            "image/png": "[encoded data removed]",
            "text/plain": [
              "<Figure size 2160x576 with 1 Axes>"
            ]
          },
          "metadata": {
            "tags": [],
            "needs_background": "light"
          }
        }
      ]
    },
    {
      "cell_type": "code",
      "metadata": {
        "colab": {
          "base_uri": "https://localhost:8080/",
          "height": 295
        },
        "id": "QKDhpsGdJViL",
        "outputId": "2bdae55b-e2b4-4945-96f7-0818b02d68c7"
      },
      "source": [
        "new_df.describe()"
      ],
      "execution_count": 43,
      "outputs": [
        {
          "output_type": "execute_result",
          "data": {
            "text/html": [
              "<div>\n",
              "<style scoped>\n",
              "    .dataframe tbody tr th:only-of-type {\n",
              "        vertical-align: middle;\n",
              "    }\n",
              "\n",
              "    .dataframe tbody tr th {\n",
              "        vertical-align: top;\n",
              "    }\n",
              "\n",
              "    .dataframe thead th {\n",
              "        text-align: right;\n",
              "    }\n",
              "</style>\n",
              "<table border=\"1\" class=\"dataframe\">\n",
              "  <thead>\n",
              "    <tr style=\"text-align: right;\">\n",
              "      <th></th>\n",
              "      <th>reject_ind</th>\n",
              "      <th>count</th>\n",
              "    </tr>\n",
              "  </thead>\n",
              "  <tbody>\n",
              "    <tr>\n",
              "      <th>count</th>\n",
              "      <td>22.000000</td>\n",
              "      <td>22.000000</td>\n",
              "    </tr>\n",
              "    <tr>\n",
              "      <th>mean</th>\n",
              "      <td>365.818182</td>\n",
              "      <td>6017.909091</td>\n",
              "    </tr>\n",
              "    <tr>\n",
              "      <th>std</th>\n",
              "      <td>78.115687</td>\n",
              "      <td>1192.222730</td>\n",
              "    </tr>\n",
              "    <tr>\n",
              "      <th>min</th>\n",
              "      <td>139.000000</td>\n",
              "      <td>1713.000000</td>\n",
              "    </tr>\n",
              "    <tr>\n",
              "      <th>25%</th>\n",
              "      <td>322.500000</td>\n",
              "      <td>5598.000000</td>\n",
              "    </tr>\n",
              "    <tr>\n",
              "      <th>50%</th>\n",
              "      <td>364.000000</td>\n",
              "      <td>6062.000000</td>\n",
              "    </tr>\n",
              "    <tr>\n",
              "      <th>75%</th>\n",
              "      <td>421.750000</td>\n",
              "      <td>6595.250000</td>\n",
              "    </tr>\n",
              "    <tr>\n",
              "      <th>max</th>\n",
              "      <td>511.000000</td>\n",
              "      <td>7774.000000</td>\n",
              "    </tr>\n",
              "  </tbody>\n",
              "</table>\n",
              "</div>"
            ],
            "text/plain": [
              "       reject_ind        count\n",
              "count   22.000000    22.000000\n",
              "mean   365.818182  6017.909091\n",
              "std     78.115687  1192.222730\n",
              "min    139.000000  1713.000000\n",
              "25%    322.500000  5598.000000\n",
              "50%    364.000000  6062.000000\n",
              "75%    421.750000  6595.250000\n",
              "max    511.000000  7774.000000"
            ]
          },
          "metadata": {
            "tags": []
          },
          "execution_count": 43
        }
      ]
    },
    {
      "cell_type": "markdown",
      "metadata": {
        "id": "30x_A4aMJk5_"
      },
      "source": [
        "**We can see that on an average 365.818182\torders are rejected per day wic is approximately 6% of average orders placed per day**"
      ]
    },
    {
      "cell_type": "code",
      "metadata": {
        "id": "b90ZN165I8O4"
      },
      "source": [
        "new_df2=Assignment_df[Assignment_df['reject_ind']==1]"
      ],
      "execution_count": 5,
      "outputs": []
    },
    {
      "cell_type": "code",
      "metadata": {
        "id": "00rHRk6kOmCi"
      },
      "source": [
        "new_df2=new_df2.iloc[:,[0,2,3,4]]"
      ],
      "execution_count": 6,
      "outputs": []
    },
    {
      "cell_type": "code",
      "metadata": {
        "colab": {
          "base_uri": "https://localhost:8080/",
          "height": 417
        },
        "id": "Ufb9WcKgP6uV",
        "outputId": "22ffcb8d-233f-41da-a105-ae7068c0d66f"
      },
      "source": [
        "new_df2"
      ],
      "execution_count": 101,
      "outputs": [
        {
          "output_type": "execute_result",
          "data": {
            "text/html": [
              "<div>\n",
              "<style scoped>\n",
              "    .dataframe tbody tr th:only-of-type {\n",
              "        vertical-align: middle;\n",
              "    }\n",
              "\n",
              "    .dataframe tbody tr th {\n",
              "        vertical-align: top;\n",
              "    }\n",
              "\n",
              "    .dataframe thead th {\n",
              "        text-align: right;\n",
              "    }\n",
              "</style>\n",
              "<table border=\"1\" class=\"dataframe\">\n",
              "  <thead>\n",
              "    <tr style=\"text-align: right;\">\n",
              "      <th></th>\n",
              "      <th>ORDER_ID</th>\n",
              "      <th>ASSIGNMENT_START_TIME</th>\n",
              "      <th>ASSIGNMENT_END_TIME</th>\n",
              "      <th>reject_ind</th>\n",
              "    </tr>\n",
              "  </thead>\n",
              "  <tbody>\n",
              "    <tr>\n",
              "      <th>12</th>\n",
              "      <td>27214</td>\n",
              "      <td>2021-02-17 07:18:39.000</td>\n",
              "      <td>2021-02-17 07:21:39.000</td>\n",
              "      <td>1</td>\n",
              "    </tr>\n",
              "    <tr>\n",
              "      <th>38</th>\n",
              "      <td>67253</td>\n",
              "      <td>2021-02-24 05:14:34.000</td>\n",
              "      <td>2021-02-24 05:17:33.000</td>\n",
              "      <td>1</td>\n",
              "    </tr>\n",
              "    <tr>\n",
              "      <th>44</th>\n",
              "      <td>81535</td>\n",
              "      <td>2021-02-26 05:26:33.000</td>\n",
              "      <td>2021-02-26 05:30:30.000</td>\n",
              "      <td>1</td>\n",
              "    </tr>\n",
              "    <tr>\n",
              "      <th>47</th>\n",
              "      <td>86851</td>\n",
              "      <td>2021-02-27 05:32:33.000</td>\n",
              "      <td>2021-02-27 05:35:33.000</td>\n",
              "      <td>1</td>\n",
              "    </tr>\n",
              "    <tr>\n",
              "      <th>56</th>\n",
              "      <td>101742</td>\n",
              "      <td>2021-03-02 02:39:20.000</td>\n",
              "      <td>2021-03-02 02:42:20.000</td>\n",
              "      <td>1</td>\n",
              "    </tr>\n",
              "    <tr>\n",
              "      <th>...</th>\n",
              "      <td>...</td>\n",
              "      <td>...</td>\n",
              "      <td>...</td>\n",
              "      <td>...</td>\n",
              "    </tr>\n",
              "    <tr>\n",
              "      <th>132288</th>\n",
              "      <td>96558</td>\n",
              "      <td>2021-03-01 02:41:52.000</td>\n",
              "      <td>2021-03-01 03:34:41.034</td>\n",
              "      <td>1</td>\n",
              "    </tr>\n",
              "    <tr>\n",
              "      <th>132340</th>\n",
              "      <td>3906</td>\n",
              "      <td>2021-02-13 04:52:40.000</td>\n",
              "      <td>2021-02-13 04:55:42.000</td>\n",
              "      <td>1</td>\n",
              "    </tr>\n",
              "    <tr>\n",
              "      <th>132345</th>\n",
              "      <td>23364</td>\n",
              "      <td>2021-02-16 22:20:40.000</td>\n",
              "      <td>2021-02-16 22:52:27.000</td>\n",
              "      <td>1</td>\n",
              "    </tr>\n",
              "    <tr>\n",
              "      <th>132386</th>\n",
              "      <td>107834</td>\n",
              "      <td>2021-03-03 03:33:21.000</td>\n",
              "      <td>2021-03-03 03:36:20.000</td>\n",
              "      <td>1</td>\n",
              "    </tr>\n",
              "    <tr>\n",
              "      <th>132390</th>\n",
              "      <td>116618</td>\n",
              "      <td>2021-03-04 07:05:20.000</td>\n",
              "      <td>2021-03-04 07:07:19.000</td>\n",
              "      <td>1</td>\n",
              "    </tr>\n",
              "  </tbody>\n",
              "</table>\n",
              "<p>8048 rows × 4 columns</p>\n",
              "</div>"
            ],
            "text/plain": [
              "        ORDER_ID    ASSIGNMENT_START_TIME      ASSIGNMENT_END_TIME  reject_ind\n",
              "12         27214  2021-02-17 07:18:39.000  2021-02-17 07:21:39.000           1\n",
              "38         67253  2021-02-24 05:14:34.000  2021-02-24 05:17:33.000           1\n",
              "44         81535  2021-02-26 05:26:33.000  2021-02-26 05:30:30.000           1\n",
              "47         86851  2021-02-27 05:32:33.000  2021-02-27 05:35:33.000           1\n",
              "56        101742  2021-03-02 02:39:20.000  2021-03-02 02:42:20.000           1\n",
              "...          ...                      ...                      ...         ...\n",
              "132288     96558  2021-03-01 02:41:52.000  2021-03-01 03:34:41.034           1\n",
              "132340      3906  2021-02-13 04:52:40.000  2021-02-13 04:55:42.000           1\n",
              "132345     23364  2021-02-16 22:20:40.000  2021-02-16 22:52:27.000           1\n",
              "132386    107834  2021-03-03 03:33:21.000  2021-03-03 03:36:20.000           1\n",
              "132390    116618  2021-03-04 07:05:20.000  2021-03-04 07:07:19.000           1\n",
              "\n",
              "[8048 rows x 4 columns]"
            ]
          },
          "metadata": {
            "tags": []
          },
          "execution_count": 101
        }
      ]
    },
    {
      "cell_type": "code",
      "metadata": {
        "id": "L0vMOFicP2Wi"
      },
      "source": [
        "def cal(row):\n",
        "  a1=int(row['ASSIGNMENT_START_TIME'][11:13])\n",
        "  b1=int(row['ASSIGNMENT_START_TIME'][14:16])\n",
        "  c1=int(row['ASSIGNMENT_START_TIME'][17:19])\n",
        "  a2=int(row['ASSIGNMENT_END_TIME'][11:13])\n",
        "  b2=int(row['ASSIGNMENT_END_TIME'][14:16])\n",
        "  c2=int(row['ASSIGNMENT_END_TIME'][17:19])\n",
        "  z1=a1*3600 + b1*60 +c1\n",
        "  z2=a2*3600 + b2*60 +c2\n",
        "  # print(z1)\n",
        "  if z1<=z2:\n",
        "    return z2-z1\n",
        "  return 3600*24-z1+z2 "
      ],
      "execution_count": 3,
      "outputs": []
    },
    {
      "cell_type": "code",
      "metadata": {
        "colab": {
          "base_uri": "https://localhost:8080/",
          "height": 417
        },
        "id": "TX9eXUeOQslG",
        "outputId": "d21dc7be-f43c-4834-9798-414989312d5e"
      },
      "source": [
        "new_df2['delay_time']=new_df2.apply(lambda row: cal(row), axis=1)\n",
        "new_df2"
      ],
      "execution_count": 103,
      "outputs": [
        {
          "output_type": "execute_result",
          "data": {
            "text/html": [
              "<div>\n",
              "<style scoped>\n",
              "    .dataframe tbody tr th:only-of-type {\n",
              "        vertical-align: middle;\n",
              "    }\n",
              "\n",
              "    .dataframe tbody tr th {\n",
              "        vertical-align: top;\n",
              "    }\n",
              "\n",
              "    .dataframe thead th {\n",
              "        text-align: right;\n",
              "    }\n",
              "</style>\n",
              "<table border=\"1\" class=\"dataframe\">\n",
              "  <thead>\n",
              "    <tr style=\"text-align: right;\">\n",
              "      <th></th>\n",
              "      <th>ORDER_ID</th>\n",
              "      <th>ASSIGNMENT_START_TIME</th>\n",
              "      <th>ASSIGNMENT_END_TIME</th>\n",
              "      <th>reject_ind</th>\n",
              "      <th>delay_time</th>\n",
              "    </tr>\n",
              "  </thead>\n",
              "  <tbody>\n",
              "    <tr>\n",
              "      <th>12</th>\n",
              "      <td>27214</td>\n",
              "      <td>2021-02-17 07:18:39.000</td>\n",
              "      <td>2021-02-17 07:21:39.000</td>\n",
              "      <td>1</td>\n",
              "      <td>180</td>\n",
              "    </tr>\n",
              "    <tr>\n",
              "      <th>38</th>\n",
              "      <td>67253</td>\n",
              "      <td>2021-02-24 05:14:34.000</td>\n",
              "      <td>2021-02-24 05:17:33.000</td>\n",
              "      <td>1</td>\n",
              "      <td>179</td>\n",
              "    </tr>\n",
              "    <tr>\n",
              "      <th>44</th>\n",
              "      <td>81535</td>\n",
              "      <td>2021-02-26 05:26:33.000</td>\n",
              "      <td>2021-02-26 05:30:30.000</td>\n",
              "      <td>1</td>\n",
              "      <td>237</td>\n",
              "    </tr>\n",
              "    <tr>\n",
              "      <th>47</th>\n",
              "      <td>86851</td>\n",
              "      <td>2021-02-27 05:32:33.000</td>\n",
              "      <td>2021-02-27 05:35:33.000</td>\n",
              "      <td>1</td>\n",
              "      <td>180</td>\n",
              "    </tr>\n",
              "    <tr>\n",
              "      <th>56</th>\n",
              "      <td>101742</td>\n",
              "      <td>2021-03-02 02:39:20.000</td>\n",
              "      <td>2021-03-02 02:42:20.000</td>\n",
              "      <td>1</td>\n",
              "      <td>180</td>\n",
              "    </tr>\n",
              "    <tr>\n",
              "      <th>...</th>\n",
              "      <td>...</td>\n",
              "      <td>...</td>\n",
              "      <td>...</td>\n",
              "      <td>...</td>\n",
              "      <td>...</td>\n",
              "    </tr>\n",
              "    <tr>\n",
              "      <th>132288</th>\n",
              "      <td>96558</td>\n",
              "      <td>2021-03-01 02:41:52.000</td>\n",
              "      <td>2021-03-01 03:34:41.034</td>\n",
              "      <td>1</td>\n",
              "      <td>3169</td>\n",
              "    </tr>\n",
              "    <tr>\n",
              "      <th>132340</th>\n",
              "      <td>3906</td>\n",
              "      <td>2021-02-13 04:52:40.000</td>\n",
              "      <td>2021-02-13 04:55:42.000</td>\n",
              "      <td>1</td>\n",
              "      <td>182</td>\n",
              "    </tr>\n",
              "    <tr>\n",
              "      <th>132345</th>\n",
              "      <td>23364</td>\n",
              "      <td>2021-02-16 22:20:40.000</td>\n",
              "      <td>2021-02-16 22:52:27.000</td>\n",
              "      <td>1</td>\n",
              "      <td>1907</td>\n",
              "    </tr>\n",
              "    <tr>\n",
              "      <th>132386</th>\n",
              "      <td>107834</td>\n",
              "      <td>2021-03-03 03:33:21.000</td>\n",
              "      <td>2021-03-03 03:36:20.000</td>\n",
              "      <td>1</td>\n",
              "      <td>179</td>\n",
              "    </tr>\n",
              "    <tr>\n",
              "      <th>132390</th>\n",
              "      <td>116618</td>\n",
              "      <td>2021-03-04 07:05:20.000</td>\n",
              "      <td>2021-03-04 07:07:19.000</td>\n",
              "      <td>1</td>\n",
              "      <td>119</td>\n",
              "    </tr>\n",
              "  </tbody>\n",
              "</table>\n",
              "<p>8048 rows × 5 columns</p>\n",
              "</div>"
            ],
            "text/plain": [
              "        ORDER_ID    ASSIGNMENT_START_TIME  ... reject_ind  delay_time\n",
              "12         27214  2021-02-17 07:18:39.000  ...          1         180\n",
              "38         67253  2021-02-24 05:14:34.000  ...          1         179\n",
              "44         81535  2021-02-26 05:26:33.000  ...          1         237\n",
              "47         86851  2021-02-27 05:32:33.000  ...          1         180\n",
              "56        101742  2021-03-02 02:39:20.000  ...          1         180\n",
              "...          ...                      ...  ...        ...         ...\n",
              "132288     96558  2021-03-01 02:41:52.000  ...          1        3169\n",
              "132340      3906  2021-02-13 04:52:40.000  ...          1         182\n",
              "132345     23364  2021-02-16 22:20:40.000  ...          1        1907\n",
              "132386    107834  2021-03-03 03:33:21.000  ...          1         179\n",
              "132390    116618  2021-03-04 07:05:20.000  ...          1         119\n",
              "\n",
              "[8048 rows x 5 columns]"
            ]
          },
          "metadata": {
            "tags": []
          },
          "execution_count": 103
        }
      ]
    },
    {
      "cell_type": "code",
      "metadata": {
        "colab": {
          "base_uri": "https://localhost:8080/",
          "height": 295
        },
        "id": "jbFDubd7U_vl",
        "outputId": "bfdb3eec-7c79-4fd8-fbda-4b6bcada3e5e"
      },
      "source": [
        "new_df2.describe()"
      ],
      "execution_count": 82,
      "outputs": [
        {
          "output_type": "execute_result",
          "data": {
            "text/html": [
              "<div>\n",
              "<style scoped>\n",
              "    .dataframe tbody tr th:only-of-type {\n",
              "        vertical-align: middle;\n",
              "    }\n",
              "\n",
              "    .dataframe tbody tr th {\n",
              "        vertical-align: top;\n",
              "    }\n",
              "\n",
              "    .dataframe thead th {\n",
              "        text-align: right;\n",
              "    }\n",
              "</style>\n",
              "<table border=\"1\" class=\"dataframe\">\n",
              "  <thead>\n",
              "    <tr style=\"text-align: right;\">\n",
              "      <th></th>\n",
              "      <th>reject_ind</th>\n",
              "      <th>delay_time</th>\n",
              "    </tr>\n",
              "  </thead>\n",
              "  <tbody>\n",
              "    <tr>\n",
              "      <th>count</th>\n",
              "      <td>8048.0</td>\n",
              "      <td>8048.000000</td>\n",
              "    </tr>\n",
              "    <tr>\n",
              "      <th>mean</th>\n",
              "      <td>1.0</td>\n",
              "      <td>464.438743</td>\n",
              "    </tr>\n",
              "    <tr>\n",
              "      <th>std</th>\n",
              "      <td>0.0</td>\n",
              "      <td>604.874725</td>\n",
              "    </tr>\n",
              "    <tr>\n",
              "      <th>min</th>\n",
              "      <td>1.0</td>\n",
              "      <td>6.000000</td>\n",
              "    </tr>\n",
              "    <tr>\n",
              "      <th>25%</th>\n",
              "      <td>1.0</td>\n",
              "      <td>179.000000</td>\n",
              "    </tr>\n",
              "    <tr>\n",
              "      <th>50%</th>\n",
              "      <td>1.0</td>\n",
              "      <td>180.000000</td>\n",
              "    </tr>\n",
              "    <tr>\n",
              "      <th>75%</th>\n",
              "      <td>1.0</td>\n",
              "      <td>561.000000</td>\n",
              "    </tr>\n",
              "    <tr>\n",
              "      <th>max</th>\n",
              "      <td>1.0</td>\n",
              "      <td>5462.000000</td>\n",
              "    </tr>\n",
              "  </tbody>\n",
              "</table>\n",
              "</div>"
            ],
            "text/plain": [
              "       reject_ind   delay_time\n",
              "count      8048.0  8048.000000\n",
              "mean          1.0   464.438743\n",
              "std           0.0   604.874725\n",
              "min           1.0     6.000000\n",
              "25%           1.0   179.000000\n",
              "50%           1.0   180.000000\n",
              "75%           1.0   561.000000\n",
              "max           1.0  5462.000000"
            ]
          },
          "metadata": {
            "tags": []
          },
          "execution_count": 82
        }
      ]
    },
    {
      "cell_type": "code",
      "metadata": {
        "id": "z3M-yDOaqK5h"
      },
      "source": [
        "new_df2=new_df2.iloc[:,[0,4]]"
      ],
      "execution_count": 104,
      "outputs": []
    },
    {
      "cell_type": "code",
      "metadata": {
        "id": "Qt5s9ROWqncd"
      },
      "source": [
        "new_df2=new_df2.groupby(['ORDER_ID']).sum()"
      ],
      "execution_count": 105,
      "outputs": []
    },
    {
      "cell_type": "code",
      "metadata": {
        "colab": {
          "base_uri": "https://localhost:8080/",
          "height": 295
        },
        "id": "tCokPZNEqx5x",
        "outputId": "2b8cca5e-403e-45e7-e517-32a7e5f9437b"
      },
      "source": [
        "new_df2.describe()"
      ],
      "execution_count": 107,
      "outputs": [
        {
          "output_type": "execute_result",
          "data": {
            "text/html": [
              "<div>\n",
              "<style scoped>\n",
              "    .dataframe tbody tr th:only-of-type {\n",
              "        vertical-align: middle;\n",
              "    }\n",
              "\n",
              "    .dataframe tbody tr th {\n",
              "        vertical-align: top;\n",
              "    }\n",
              "\n",
              "    .dataframe thead th {\n",
              "        text-align: right;\n",
              "    }\n",
              "</style>\n",
              "<table border=\"1\" class=\"dataframe\">\n",
              "  <thead>\n",
              "    <tr style=\"text-align: right;\">\n",
              "      <th></th>\n",
              "      <th>delay_time</th>\n",
              "    </tr>\n",
              "  </thead>\n",
              "  <tbody>\n",
              "    <tr>\n",
              "      <th>count</th>\n",
              "      <td>5944.000000</td>\n",
              "    </tr>\n",
              "    <tr>\n",
              "      <th>mean</th>\n",
              "      <td>628.836306</td>\n",
              "    </tr>\n",
              "    <tr>\n",
              "      <th>std</th>\n",
              "      <td>1007.221166</td>\n",
              "    </tr>\n",
              "    <tr>\n",
              "      <th>min</th>\n",
              "      <td>7.000000</td>\n",
              "    </tr>\n",
              "    <tr>\n",
              "      <th>25%</th>\n",
              "      <td>179.000000</td>\n",
              "    </tr>\n",
              "    <tr>\n",
              "      <th>50%</th>\n",
              "      <td>180.000000</td>\n",
              "    </tr>\n",
              "    <tr>\n",
              "      <th>75%</th>\n",
              "      <td>650.000000</td>\n",
              "    </tr>\n",
              "    <tr>\n",
              "      <th>max</th>\n",
              "      <td>10228.000000</td>\n",
              "    </tr>\n",
              "  </tbody>\n",
              "</table>\n",
              "</div>"
            ],
            "text/plain": [
              "         delay_time\n",
              "count   5944.000000\n",
              "mean     628.836306\n",
              "std     1007.221166\n",
              "min        7.000000\n",
              "25%      179.000000\n",
              "50%      180.000000\n",
              "75%      650.000000\n",
              "max    10228.000000"
            ]
          },
          "metadata": {
            "tags": []
          },
          "execution_count": 107
        }
      ]
    },
    {
      "cell_type": "markdown",
      "metadata": {
        "id": "BuIHO55LVL2S"
      },
      "source": [
        "**We can see that on an average 628\tseconds of delay per order is wasted in delay time.We can see the max time delay is 10228 seconds\n",
        "which is about 2hrs and 50 mins which is not good for the brand reputation for swiggy which promises to deliver food on time**"
      ]
    },
    {
      "cell_type": "code",
      "metadata": {
        "id": "RGG0bF-YVKin"
      },
      "source": [
        "feature_df=Assignment_df.iloc[:,[1,2,4,8,9,10,12,14,15,16]]"
      ],
      "execution_count": 7,
      "outputs": []
    },
    {
      "cell_type": "code",
      "metadata": {
        "colab": {
          "base_uri": "https://localhost:8080/",
          "height": 223
        },
        "id": "ABmbSkU2tUry",
        "outputId": "d25ec83a-5b6e-4044-8abd-d0f2043f3181"
      },
      "source": [
        "feature_df.head()"
      ],
      "execution_count": 8,
      "outputs": [
        {
          "output_type": "execute_result",
          "data": {
            "text/html": [
              "<div>\n",
              "<style scoped>\n",
              "    .dataframe tbody tr th:only-of-type {\n",
              "        vertical-align: middle;\n",
              "    }\n",
              "\n",
              "    .dataframe tbody tr th {\n",
              "        vertical-align: top;\n",
              "    }\n",
              "\n",
              "    .dataframe thead th {\n",
              "        text-align: right;\n",
              "    }\n",
              "</style>\n",
              "<table border=\"1\" class=\"dataframe\">\n",
              "  <thead>\n",
              "    <tr style=\"text-align: right;\">\n",
              "      <th></th>\n",
              "      <th>DE_ID</th>\n",
              "      <th>ASSIGNMENT_START_TIME</th>\n",
              "      <th>reject_ind</th>\n",
              "      <th>LASTMILE_DISTANCE</th>\n",
              "      <th>FIRSTMILE_DISTANCE</th>\n",
              "      <th>LAST_MILE_TIME_PREDICTED</th>\n",
              "      <th>NUM_PING_COUNT_LAST10MIN</th>\n",
              "      <th>CUSTOMER_ZONE</th>\n",
              "      <th>CUSTOMER_LAT</th>\n",
              "      <th>CUSTOMER_LNG</th>\n",
              "    </tr>\n",
              "  </thead>\n",
              "  <tbody>\n",
              "    <tr>\n",
              "      <th>0</th>\n",
              "      <td>180976</td>\n",
              "      <td>2021-02-13 03:08:24.000</td>\n",
              "      <td>0</td>\n",
              "      <td>320.9</td>\n",
              "      <td>320.0</td>\n",
              "      <td>314.0</td>\n",
              "      <td>63</td>\n",
              "      <td>373.0</td>\n",
              "      <td>37.377569</td>\n",
              "      <td>72.832560</td>\n",
              "    </tr>\n",
              "    <tr>\n",
              "      <th>1</th>\n",
              "      <td>280243</td>\n",
              "      <td>2021-02-14 05:06:40.000</td>\n",
              "      <td>0</td>\n",
              "      <td>516.8</td>\n",
              "      <td>342.5</td>\n",
              "      <td>451.0</td>\n",
              "      <td>27</td>\n",
              "      <td>373.0</td>\n",
              "      <td>37.380613</td>\n",
              "      <td>72.796909</td>\n",
              "    </tr>\n",
              "    <tr>\n",
              "      <th>2</th>\n",
              "      <td>339813</td>\n",
              "      <td>2021-02-15 02:22:40.000</td>\n",
              "      <td>0</td>\n",
              "      <td>459.5</td>\n",
              "      <td>418.7</td>\n",
              "      <td>443.0</td>\n",
              "      <td>57</td>\n",
              "      <td>373.0</td>\n",
              "      <td>37.372032</td>\n",
              "      <td>72.805871</td>\n",
              "    </tr>\n",
              "    <tr>\n",
              "      <th>3</th>\n",
              "      <td>1315348</td>\n",
              "      <td>2021-02-15 03:01:25.000</td>\n",
              "      <td>0</td>\n",
              "      <td>376.4</td>\n",
              "      <td>332.9</td>\n",
              "      <td>367.3</td>\n",
              "      <td>41</td>\n",
              "      <td>373.0</td>\n",
              "      <td>37.371380</td>\n",
              "      <td>72.819992</td>\n",
              "    </tr>\n",
              "    <tr>\n",
              "      <th>4</th>\n",
              "      <td>1186729</td>\n",
              "      <td>2021-02-15 03:12:24.000</td>\n",
              "      <td>0</td>\n",
              "      <td>414.5</td>\n",
              "      <td>334.1</td>\n",
              "      <td>413.2</td>\n",
              "      <td>13</td>\n",
              "      <td>373.0</td>\n",
              "      <td>37.369925</td>\n",
              "      <td>72.826764</td>\n",
              "    </tr>\n",
              "  </tbody>\n",
              "</table>\n",
              "</div>"
            ],
            "text/plain": [
              "     DE_ID    ASSIGNMENT_START_TIME  ...  CUSTOMER_LAT  CUSTOMER_LNG\n",
              "0   180976  2021-02-13 03:08:24.000  ...     37.377569     72.832560\n",
              "1   280243  2021-02-14 05:06:40.000  ...     37.380613     72.796909\n",
              "2   339813  2021-02-15 02:22:40.000  ...     37.372032     72.805871\n",
              "3  1315348  2021-02-15 03:01:25.000  ...     37.371380     72.819992\n",
              "4  1186729  2021-02-15 03:12:24.000  ...     37.369925     72.826764\n",
              "\n",
              "[5 rows x 10 columns]"
            ]
          },
          "metadata": {
            "tags": []
          },
          "execution_count": 8
        }
      ]
    },
    {
      "cell_type": "markdown",
      "metadata": {
        "id": "JsocEx-JtX9s"
      },
      "source": [
        "**I have taken only those features which are known before delivery is completed.By these features I will try to predict whether the delivery executive assigned will reject the delivery or not so we can know in advance to wich DE the task should be assigned.Later I will add some new feature**"
      ]
    },
    {
      "cell_type": "code",
      "metadata": {
        "id": "O6yedQnhuKm0"
      },
      "source": [
        "new_df3=Assignment_df.iloc[:,[1,4]]"
      ],
      "execution_count": 9,
      "outputs": []
    },
    {
      "cell_type": "code",
      "metadata": {
        "colab": {
          "base_uri": "https://localhost:8080/"
        },
        "id": "XsrIoxnnutYu",
        "outputId": "a5b0113e-0c34-40dc-a179-193ebcb8641d"
      },
      "source": [
        "a=[1]*new_df3.shape[0]\n",
        "new_df3['count']=a"
      ],
      "execution_count": 10,
      "outputs": [
        {
          "output_type": "stream",
          "text": [
            "/usr/local/lib/python3.7/dist-packages/ipykernel_launcher.py:2: SettingWithCopyWarning: \n",
            "A value is trying to be set on a copy of a slice from a DataFrame.\n",
            "Try using .loc[row_indexer,col_indexer] = value instead\n",
            "\n",
            "See the caveats in the documentation: https://pandas.pydata.org/pandas-docs/stable/user_guide/indexing.html#returning-a-view-versus-a-copy\n",
            "  \n"
          ],
          "name": "stderr"
        }
      ]
    },
    {
      "cell_type": "code",
      "metadata": {
        "colab": {
          "base_uri": "https://localhost:8080/",
          "height": 447
        },
        "id": "yUqCufHnuxma",
        "outputId": "2fa82306-7282-45f6-812b-56b24c73aa24"
      },
      "source": [
        "new_df3=new_df3.groupby(['DE_ID']).sum()\n",
        "new_df3"
      ],
      "execution_count": 11,
      "outputs": [
        {
          "output_type": "execute_result",
          "data": {
            "text/html": [
              "<div>\n",
              "<style scoped>\n",
              "    .dataframe tbody tr th:only-of-type {\n",
              "        vertical-align: middle;\n",
              "    }\n",
              "\n",
              "    .dataframe tbody tr th {\n",
              "        vertical-align: top;\n",
              "    }\n",
              "\n",
              "    .dataframe thead th {\n",
              "        text-align: right;\n",
              "    }\n",
              "</style>\n",
              "<table border=\"1\" class=\"dataframe\">\n",
              "  <thead>\n",
              "    <tr style=\"text-align: right;\">\n",
              "      <th></th>\n",
              "      <th>reject_ind</th>\n",
              "      <th>count</th>\n",
              "    </tr>\n",
              "    <tr>\n",
              "      <th>DE_ID</th>\n",
              "      <th></th>\n",
              "      <th></th>\n",
              "    </tr>\n",
              "  </thead>\n",
              "  <tbody>\n",
              "    <tr>\n",
              "      <th>220</th>\n",
              "      <td>23</td>\n",
              "      <td>223</td>\n",
              "    </tr>\n",
              "    <tr>\n",
              "      <th>21914</th>\n",
              "      <td>2</td>\n",
              "      <td>262</td>\n",
              "    </tr>\n",
              "    <tr>\n",
              "      <th>21984</th>\n",
              "      <td>6</td>\n",
              "      <td>209</td>\n",
              "    </tr>\n",
              "    <tr>\n",
              "      <th>23094</th>\n",
              "      <td>10</td>\n",
              "      <td>167</td>\n",
              "    </tr>\n",
              "    <tr>\n",
              "      <th>83763</th>\n",
              "      <td>5</td>\n",
              "      <td>170</td>\n",
              "    </tr>\n",
              "    <tr>\n",
              "      <th>...</th>\n",
              "      <td>...</td>\n",
              "      <td>...</td>\n",
              "    </tr>\n",
              "    <tr>\n",
              "      <th>1356287</th>\n",
              "      <td>1</td>\n",
              "      <td>41</td>\n",
              "    </tr>\n",
              "    <tr>\n",
              "      <th>1357090</th>\n",
              "      <td>0</td>\n",
              "      <td>3</td>\n",
              "    </tr>\n",
              "    <tr>\n",
              "      <th>1374346</th>\n",
              "      <td>0</td>\n",
              "      <td>21</td>\n",
              "    </tr>\n",
              "    <tr>\n",
              "      <th>1376182</th>\n",
              "      <td>9</td>\n",
              "      <td>228</td>\n",
              "    </tr>\n",
              "    <tr>\n",
              "      <th>1376302</th>\n",
              "      <td>0</td>\n",
              "      <td>168</td>\n",
              "    </tr>\n",
              "  </tbody>\n",
              "</table>\n",
              "<p>991 rows × 2 columns</p>\n",
              "</div>"
            ],
            "text/plain": [
              "         reject_ind  count\n",
              "DE_ID                     \n",
              "220              23    223\n",
              "21914             2    262\n",
              "21984             6    209\n",
              "23094            10    167\n",
              "83763             5    170\n",
              "...             ...    ...\n",
              "1356287           1     41\n",
              "1357090           0      3\n",
              "1374346           0     21\n",
              "1376182           9    228\n",
              "1376302           0    168\n",
              "\n",
              "[991 rows x 2 columns]"
            ]
          },
          "metadata": {
            "tags": []
          },
          "execution_count": 11
        }
      ]
    },
    {
      "cell_type": "code",
      "metadata": {
        "id": "Tsw8d93BvTDP"
      },
      "source": [
        "s1=list(new_df3.index)\n",
        "s2=new_df3['reject_ind'].values\n",
        "s3=new_df3['count'].values"
      ],
      "execution_count": 12,
      "outputs": []
    },
    {
      "cell_type": "code",
      "metadata": {
        "id": "XnWMYF6gvqYo"
      },
      "source": [
        "s4=list()\n",
        "s5=list()\n",
        "dic=dict()\n",
        "for i in range(0,len(s1)):\n",
        "  dic[s1[i]]=(s2[i],s3[i])"
      ],
      "execution_count": 13,
      "outputs": []
    },
    {
      "cell_type": "code",
      "metadata": {
        "id": "wEgLn0p0wafT"
      },
      "source": [
        "s6=feature_df['DE_ID'].values"
      ],
      "execution_count": 14,
      "outputs": []
    },
    {
      "cell_type": "code",
      "metadata": {
        "id": "HQuN8G7Mwr-b"
      },
      "source": [
        "for i in range(0,len(s6)):\n",
        "  s4.append(dic[s6[i]][0])\n",
        "  s5.append(dic[s6[i]][1])"
      ],
      "execution_count": 15,
      "outputs": []
    },
    {
      "cell_type": "code",
      "metadata": {
        "colab": {
          "base_uri": "https://localhost:8080/"
        },
        "id": "YXHonyrxxCsn",
        "outputId": "cea5ef91-f7c4-41d6-ccf1-d13b1a1cdefb"
      },
      "source": [
        "feature_df['reject_ind_count']=s4\n",
        "feature_df['count']=s5"
      ],
      "execution_count": 16,
      "outputs": [
        {
          "output_type": "stream",
          "text": [
            "/usr/local/lib/python3.7/dist-packages/ipykernel_launcher.py:1: SettingWithCopyWarning: \n",
            "A value is trying to be set on a copy of a slice from a DataFrame.\n",
            "Try using .loc[row_indexer,col_indexer] = value instead\n",
            "\n",
            "See the caveats in the documentation: https://pandas.pydata.org/pandas-docs/stable/user_guide/indexing.html#returning-a-view-versus-a-copy\n",
            "  \"\"\"Entry point for launching an IPython kernel.\n",
            "/usr/local/lib/python3.7/dist-packages/ipykernel_launcher.py:2: SettingWithCopyWarning: \n",
            "A value is trying to be set on a copy of a slice from a DataFrame.\n",
            "Try using .loc[row_indexer,col_indexer] = value instead\n",
            "\n",
            "See the caveats in the documentation: https://pandas.pydata.org/pandas-docs/stable/user_guide/indexing.html#returning-a-view-versus-a-copy\n",
            "  \n"
          ],
          "name": "stderr"
        }
      ]
    },
    {
      "cell_type": "code",
      "metadata": {
        "colab": {
          "base_uri": "https://localhost:8080/",
          "height": 223
        },
        "id": "5cY9iRDexOkx",
        "outputId": "ebb1ea00-7fe8-442d-a85f-a6c89ec26e9a"
      },
      "source": [
        "feature_df.head()"
      ],
      "execution_count": 17,
      "outputs": [
        {
          "output_type": "execute_result",
          "data": {
            "text/html": [
              "<div>\n",
              "<style scoped>\n",
              "    .dataframe tbody tr th:only-of-type {\n",
              "        vertical-align: middle;\n",
              "    }\n",
              "\n",
              "    .dataframe tbody tr th {\n",
              "        vertical-align: top;\n",
              "    }\n",
              "\n",
              "    .dataframe thead th {\n",
              "        text-align: right;\n",
              "    }\n",
              "</style>\n",
              "<table border=\"1\" class=\"dataframe\">\n",
              "  <thead>\n",
              "    <tr style=\"text-align: right;\">\n",
              "      <th></th>\n",
              "      <th>DE_ID</th>\n",
              "      <th>ASSIGNMENT_START_TIME</th>\n",
              "      <th>reject_ind</th>\n",
              "      <th>LASTMILE_DISTANCE</th>\n",
              "      <th>FIRSTMILE_DISTANCE</th>\n",
              "      <th>LAST_MILE_TIME_PREDICTED</th>\n",
              "      <th>NUM_PING_COUNT_LAST10MIN</th>\n",
              "      <th>CUSTOMER_ZONE</th>\n",
              "      <th>CUSTOMER_LAT</th>\n",
              "      <th>CUSTOMER_LNG</th>\n",
              "      <th>reject_ind_count</th>\n",
              "      <th>count</th>\n",
              "    </tr>\n",
              "  </thead>\n",
              "  <tbody>\n",
              "    <tr>\n",
              "      <th>0</th>\n",
              "      <td>180976</td>\n",
              "      <td>2021-02-13 03:08:24.000</td>\n",
              "      <td>0</td>\n",
              "      <td>320.9</td>\n",
              "      <td>320.0</td>\n",
              "      <td>314.0</td>\n",
              "      <td>63</td>\n",
              "      <td>373.0</td>\n",
              "      <td>37.377569</td>\n",
              "      <td>72.832560</td>\n",
              "      <td>2</td>\n",
              "      <td>247</td>\n",
              "    </tr>\n",
              "    <tr>\n",
              "      <th>1</th>\n",
              "      <td>280243</td>\n",
              "      <td>2021-02-14 05:06:40.000</td>\n",
              "      <td>0</td>\n",
              "      <td>516.8</td>\n",
              "      <td>342.5</td>\n",
              "      <td>451.0</td>\n",
              "      <td>27</td>\n",
              "      <td>373.0</td>\n",
              "      <td>37.380613</td>\n",
              "      <td>72.796909</td>\n",
              "      <td>1</td>\n",
              "      <td>179</td>\n",
              "    </tr>\n",
              "    <tr>\n",
              "      <th>2</th>\n",
              "      <td>339813</td>\n",
              "      <td>2021-02-15 02:22:40.000</td>\n",
              "      <td>0</td>\n",
              "      <td>459.5</td>\n",
              "      <td>418.7</td>\n",
              "      <td>443.0</td>\n",
              "      <td>57</td>\n",
              "      <td>373.0</td>\n",
              "      <td>37.372032</td>\n",
              "      <td>72.805871</td>\n",
              "      <td>4</td>\n",
              "      <td>320</td>\n",
              "    </tr>\n",
              "    <tr>\n",
              "      <th>3</th>\n",
              "      <td>1315348</td>\n",
              "      <td>2021-02-15 03:01:25.000</td>\n",
              "      <td>0</td>\n",
              "      <td>376.4</td>\n",
              "      <td>332.9</td>\n",
              "      <td>367.3</td>\n",
              "      <td>41</td>\n",
              "      <td>373.0</td>\n",
              "      <td>37.371380</td>\n",
              "      <td>72.819992</td>\n",
              "      <td>17</td>\n",
              "      <td>201</td>\n",
              "    </tr>\n",
              "    <tr>\n",
              "      <th>4</th>\n",
              "      <td>1186729</td>\n",
              "      <td>2021-02-15 03:12:24.000</td>\n",
              "      <td>0</td>\n",
              "      <td>414.5</td>\n",
              "      <td>334.1</td>\n",
              "      <td>413.2</td>\n",
              "      <td>13</td>\n",
              "      <td>373.0</td>\n",
              "      <td>37.369925</td>\n",
              "      <td>72.826764</td>\n",
              "      <td>62</td>\n",
              "      <td>481</td>\n",
              "    </tr>\n",
              "  </tbody>\n",
              "</table>\n",
              "</div>"
            ],
            "text/plain": [
              "     DE_ID    ASSIGNMENT_START_TIME  ...  reject_ind_count  count\n",
              "0   180976  2021-02-13 03:08:24.000  ...                 2    247\n",
              "1   280243  2021-02-14 05:06:40.000  ...                 1    179\n",
              "2   339813  2021-02-15 02:22:40.000  ...                 4    320\n",
              "3  1315348  2021-02-15 03:01:25.000  ...                17    201\n",
              "4  1186729  2021-02-15 03:12:24.000  ...                62    481\n",
              "\n",
              "[5 rows x 12 columns]"
            ]
          },
          "metadata": {
            "tags": []
          },
          "execution_count": 17
        }
      ]
    },
    {
      "cell_type": "code",
      "metadata": {
        "id": "WTR9nv9V9C-g"
      },
      "source": [
        "def cal2(row):\n",
        "  a1=int(row['ASSIGNMENT_START_TIME'][11:13])\n",
        "  b1=int(row['ASSIGNMENT_START_TIME'][14:16])\n",
        "  c1=int(row['ASSIGNMENT_START_TIME'][17:19])\n",
        "  z1=a1*3600 + b1*60 +c1\n",
        "  return z1"
      ],
      "execution_count": 18,
      "outputs": []
    },
    {
      "cell_type": "code",
      "metadata": {
        "colab": {
          "base_uri": "https://localhost:8080/"
        },
        "id": "PzWz1S7a9RZ-",
        "outputId": "d535a748-ceba-4eea-a869-65e076aaa2e9"
      },
      "source": [
        "feature_df['ASSIGNMENT_START_TIME']=feature_df.apply(lambda row: cal2(row), axis=1)"
      ],
      "execution_count": 19,
      "outputs": [
        {
          "output_type": "stream",
          "text": [
            "/usr/local/lib/python3.7/dist-packages/ipykernel_launcher.py:1: SettingWithCopyWarning: \n",
            "A value is trying to be set on a copy of a slice from a DataFrame.\n",
            "Try using .loc[row_indexer,col_indexer] = value instead\n",
            "\n",
            "See the caveats in the documentation: https://pandas.pydata.org/pandas-docs/stable/user_guide/indexing.html#returning-a-view-versus-a-copy\n",
            "  \"\"\"Entry point for launching an IPython kernel.\n"
          ],
          "name": "stderr"
        }
      ]
    },
    {
      "cell_type": "code",
      "metadata": {
        "colab": {
          "base_uri": "https://localhost:8080/",
          "height": 437
        },
        "id": "dEpJzUXz9hOx",
        "outputId": "055117b4-1288-40c7-ed87-1c696336cf7c"
      },
      "source": [
        "feature_df"
      ],
      "execution_count": 20,
      "outputs": [
        {
          "output_type": "execute_result",
          "data": {
            "text/html": [
              "<div>\n",
              "<style scoped>\n",
              "    .dataframe tbody tr th:only-of-type {\n",
              "        vertical-align: middle;\n",
              "    }\n",
              "\n",
              "    .dataframe tbody tr th {\n",
              "        vertical-align: top;\n",
              "    }\n",
              "\n",
              "    .dataframe thead th {\n",
              "        text-align: right;\n",
              "    }\n",
              "</style>\n",
              "<table border=\"1\" class=\"dataframe\">\n",
              "  <thead>\n",
              "    <tr style=\"text-align: right;\">\n",
              "      <th></th>\n",
              "      <th>DE_ID</th>\n",
              "      <th>ASSIGNMENT_START_TIME</th>\n",
              "      <th>reject_ind</th>\n",
              "      <th>LASTMILE_DISTANCE</th>\n",
              "      <th>FIRSTMILE_DISTANCE</th>\n",
              "      <th>LAST_MILE_TIME_PREDICTED</th>\n",
              "      <th>NUM_PING_COUNT_LAST10MIN</th>\n",
              "      <th>CUSTOMER_ZONE</th>\n",
              "      <th>CUSTOMER_LAT</th>\n",
              "      <th>CUSTOMER_LNG</th>\n",
              "      <th>reject_ind_count</th>\n",
              "      <th>count</th>\n",
              "    </tr>\n",
              "  </thead>\n",
              "  <tbody>\n",
              "    <tr>\n",
              "      <th>0</th>\n",
              "      <td>180976</td>\n",
              "      <td>11304</td>\n",
              "      <td>0</td>\n",
              "      <td>320.9</td>\n",
              "      <td>320.0</td>\n",
              "      <td>314.0</td>\n",
              "      <td>63</td>\n",
              "      <td>373.0</td>\n",
              "      <td>37.377569</td>\n",
              "      <td>72.832560</td>\n",
              "      <td>2</td>\n",
              "      <td>247</td>\n",
              "    </tr>\n",
              "    <tr>\n",
              "      <th>1</th>\n",
              "      <td>280243</td>\n",
              "      <td>18400</td>\n",
              "      <td>0</td>\n",
              "      <td>516.8</td>\n",
              "      <td>342.5</td>\n",
              "      <td>451.0</td>\n",
              "      <td>27</td>\n",
              "      <td>373.0</td>\n",
              "      <td>37.380613</td>\n",
              "      <td>72.796909</td>\n",
              "      <td>1</td>\n",
              "      <td>179</td>\n",
              "    </tr>\n",
              "    <tr>\n",
              "      <th>2</th>\n",
              "      <td>339813</td>\n",
              "      <td>8560</td>\n",
              "      <td>0</td>\n",
              "      <td>459.5</td>\n",
              "      <td>418.7</td>\n",
              "      <td>443.0</td>\n",
              "      <td>57</td>\n",
              "      <td>373.0</td>\n",
              "      <td>37.372032</td>\n",
              "      <td>72.805871</td>\n",
              "      <td>4</td>\n",
              "      <td>320</td>\n",
              "    </tr>\n",
              "    <tr>\n",
              "      <th>3</th>\n",
              "      <td>1315348</td>\n",
              "      <td>10885</td>\n",
              "      <td>0</td>\n",
              "      <td>376.4</td>\n",
              "      <td>332.9</td>\n",
              "      <td>367.3</td>\n",
              "      <td>41</td>\n",
              "      <td>373.0</td>\n",
              "      <td>37.371380</td>\n",
              "      <td>72.819992</td>\n",
              "      <td>17</td>\n",
              "      <td>201</td>\n",
              "    </tr>\n",
              "    <tr>\n",
              "      <th>4</th>\n",
              "      <td>1186729</td>\n",
              "      <td>11544</td>\n",
              "      <td>0</td>\n",
              "      <td>414.5</td>\n",
              "      <td>334.1</td>\n",
              "      <td>413.2</td>\n",
              "      <td>13</td>\n",
              "      <td>373.0</td>\n",
              "      <td>37.369925</td>\n",
              "      <td>72.826764</td>\n",
              "      <td>62</td>\n",
              "      <td>481</td>\n",
              "    </tr>\n",
              "    <tr>\n",
              "      <th>...</th>\n",
              "      <td>...</td>\n",
              "      <td>...</td>\n",
              "      <td>...</td>\n",
              "      <td>...</td>\n",
              "      <td>...</td>\n",
              "      <td>...</td>\n",
              "      <td>...</td>\n",
              "      <td>...</td>\n",
              "      <td>...</td>\n",
              "      <td>...</td>\n",
              "      <td>...</td>\n",
              "      <td>...</td>\n",
              "    </tr>\n",
              "    <tr>\n",
              "      <th>132389</th>\n",
              "      <td>1273445</td>\n",
              "      <td>25640</td>\n",
              "      <td>0</td>\n",
              "      <td>404.6</td>\n",
              "      <td>434.6</td>\n",
              "      <td>371.8</td>\n",
              "      <td>28</td>\n",
              "      <td>374.0</td>\n",
              "      <td>37.365616</td>\n",
              "      <td>72.835463</td>\n",
              "      <td>3</td>\n",
              "      <td>188</td>\n",
              "    </tr>\n",
              "    <tr>\n",
              "      <th>132390</th>\n",
              "      <td>234637</td>\n",
              "      <td>25520</td>\n",
              "      <td>1</td>\n",
              "      <td>404.6</td>\n",
              "      <td>444.8</td>\n",
              "      <td>371.8</td>\n",
              "      <td>63</td>\n",
              "      <td>374.0</td>\n",
              "      <td>37.365616</td>\n",
              "      <td>72.835463</td>\n",
              "      <td>20</td>\n",
              "      <td>400</td>\n",
              "    </tr>\n",
              "    <tr>\n",
              "      <th>132391</th>\n",
              "      <td>1018931</td>\n",
              "      <td>74854</td>\n",
              "      <td>0</td>\n",
              "      <td>475.7</td>\n",
              "      <td>334.7</td>\n",
              "      <td>413.2</td>\n",
              "      <td>8</td>\n",
              "      <td>374.0</td>\n",
              "      <td>37.362292</td>\n",
              "      <td>72.861723</td>\n",
              "      <td>29</td>\n",
              "      <td>240</td>\n",
              "    </tr>\n",
              "    <tr>\n",
              "      <th>132392</th>\n",
              "      <td>1180245</td>\n",
              "      <td>85040</td>\n",
              "      <td>0</td>\n",
              "      <td>326.6</td>\n",
              "      <td>392.9</td>\n",
              "      <td>317.7</td>\n",
              "      <td>28</td>\n",
              "      <td>374.0</td>\n",
              "      <td>37.365457</td>\n",
              "      <td>72.862098</td>\n",
              "      <td>13</td>\n",
              "      <td>245</td>\n",
              "    </tr>\n",
              "    <tr>\n",
              "      <th>132393</th>\n",
              "      <td>370946</td>\n",
              "      <td>8961</td>\n",
              "      <td>0</td>\n",
              "      <td>429.5</td>\n",
              "      <td>337.1</td>\n",
              "      <td>396.8</td>\n",
              "      <td>27</td>\n",
              "      <td>374.0</td>\n",
              "      <td>37.371853</td>\n",
              "      <td>72.855686</td>\n",
              "      <td>0</td>\n",
              "      <td>222</td>\n",
              "    </tr>\n",
              "  </tbody>\n",
              "</table>\n",
              "<p>132394 rows × 12 columns</p>\n",
              "</div>"
            ],
            "text/plain": [
              "          DE_ID  ASSIGNMENT_START_TIME  ...  reject_ind_count  count\n",
              "0        180976                  11304  ...                 2    247\n",
              "1        280243                  18400  ...                 1    179\n",
              "2        339813                   8560  ...                 4    320\n",
              "3       1315348                  10885  ...                17    201\n",
              "4       1186729                  11544  ...                62    481\n",
              "...         ...                    ...  ...               ...    ...\n",
              "132389  1273445                  25640  ...                 3    188\n",
              "132390   234637                  25520  ...                20    400\n",
              "132391  1018931                  74854  ...                29    240\n",
              "132392  1180245                  85040  ...                13    245\n",
              "132393   370946                   8961  ...                 0    222\n",
              "\n",
              "[132394 rows x 12 columns]"
            ]
          },
          "metadata": {
            "tags": []
          },
          "execution_count": 20
        }
      ]
    },
    {
      "cell_type": "code",
      "metadata": {
        "colab": {
          "base_uri": "https://localhost:8080/",
          "height": 417
        },
        "id": "3o-6sMsnXYus",
        "outputId": "f8402c28-baa0-405d-e9fb-0c71db9fc6f9"
      },
      "source": [
        "Delivery_df"
      ],
      "execution_count": 21,
      "outputs": [
        {
          "output_type": "execute_result",
          "data": {
            "text/html": [
              "<div>\n",
              "<style scoped>\n",
              "    .dataframe tbody tr th:only-of-type {\n",
              "        vertical-align: middle;\n",
              "    }\n",
              "\n",
              "    .dataframe tbody tr th {\n",
              "        vertical-align: top;\n",
              "    }\n",
              "\n",
              "    .dataframe thead th {\n",
              "        text-align: right;\n",
              "    }\n",
              "</style>\n",
              "<table border=\"1\" class=\"dataframe\">\n",
              "  <thead>\n",
              "    <tr style=\"text-align: right;\">\n",
              "      <th></th>\n",
              "      <th>DE_ID</th>\n",
              "      <th>SHIFT_END_TIME</th>\n",
              "      <th>DE_HOME_LAT</th>\n",
              "      <th>DE_HOME_LNG</th>\n",
              "      <th>DE_JOINING_DATE</th>\n",
              "      <th>DE_ZONE_ID</th>\n",
              "    </tr>\n",
              "  </thead>\n",
              "  <tbody>\n",
              "    <tr>\n",
              "      <th>0</th>\n",
              "      <td>141533</td>\n",
              "      <td>06:42</td>\n",
              "      <td>37.390427</td>\n",
              "      <td>72.849424</td>\n",
              "      <td>2019-09-20</td>\n",
              "      <td>372</td>\n",
              "    </tr>\n",
              "    <tr>\n",
              "      <th>1</th>\n",
              "      <td>235942</td>\n",
              "      <td>08:42</td>\n",
              "      <td>37.372289</td>\n",
              "      <td>72.885341</td>\n",
              "      <td>2020-03-15</td>\n",
              "      <td>372</td>\n",
              "    </tr>\n",
              "    <tr>\n",
              "      <th>2</th>\n",
              "      <td>973234</td>\n",
              "      <td>06:42</td>\n",
              "      <td>37.410268</td>\n",
              "      <td>72.853610</td>\n",
              "      <td>2018-12-21</td>\n",
              "      <td>375</td>\n",
              "    </tr>\n",
              "    <tr>\n",
              "      <th>3</th>\n",
              "      <td>973473</td>\n",
              "      <td>05:42</td>\n",
              "      <td>37.397067</td>\n",
              "      <td>72.872533</td>\n",
              "      <td>2018-12-21</td>\n",
              "      <td>624</td>\n",
              "    </tr>\n",
              "    <tr>\n",
              "      <th>4</th>\n",
              "      <td>1016546</td>\n",
              "      <td>06:42</td>\n",
              "      <td>37.425545</td>\n",
              "      <td>72.895137</td>\n",
              "      <td>2019-01-11</td>\n",
              "      <td>668</td>\n",
              "    </tr>\n",
              "    <tr>\n",
              "      <th>...</th>\n",
              "      <td>...</td>\n",
              "      <td>...</td>\n",
              "      <td>...</td>\n",
              "      <td>...</td>\n",
              "      <td>...</td>\n",
              "      <td>...</td>\n",
              "    </tr>\n",
              "    <tr>\n",
              "      <th>986</th>\n",
              "      <td>362691</td>\n",
              "      <td>05:42</td>\n",
              "      <td>37.374788</td>\n",
              "      <td>72.861131</td>\n",
              "      <td>2020-08-14</td>\n",
              "      <td>372</td>\n",
              "    </tr>\n",
              "    <tr>\n",
              "      <th>987</th>\n",
              "      <td>369684</td>\n",
              "      <td>06:42</td>\n",
              "      <td>37.365671</td>\n",
              "      <td>72.861327</td>\n",
              "      <td>2020-08-21</td>\n",
              "      <td>374</td>\n",
              "    </tr>\n",
              "    <tr>\n",
              "      <th>988</th>\n",
              "      <td>395572</td>\n",
              "      <td>06:42</td>\n",
              "      <td>37.399884</td>\n",
              "      <td>72.874896</td>\n",
              "      <td>2020-09-15</td>\n",
              "      <td>624</td>\n",
              "    </tr>\n",
              "    <tr>\n",
              "      <th>989</th>\n",
              "      <td>1180245</td>\n",
              "      <td>01:42</td>\n",
              "      <td>37.380950</td>\n",
              "      <td>72.865009</td>\n",
              "      <td>2019-04-01</td>\n",
              "      <td>372</td>\n",
              "    </tr>\n",
              "    <tr>\n",
              "      <th>990</th>\n",
              "      <td>1287838</td>\n",
              "      <td>06:42</td>\n",
              "      <td>37.450972</td>\n",
              "      <td>72.888596</td>\n",
              "      <td>2019-05-20</td>\n",
              "      <td>375</td>\n",
              "    </tr>\n",
              "  </tbody>\n",
              "</table>\n",
              "<p>991 rows × 6 columns</p>\n",
              "</div>"
            ],
            "text/plain": [
              "       DE_ID SHIFT_END_TIME  ...  DE_JOINING_DATE  DE_ZONE_ID\n",
              "0     141533          06:42  ...       2019-09-20         372\n",
              "1     235942          08:42  ...       2020-03-15         372\n",
              "2     973234          06:42  ...       2018-12-21         375\n",
              "3     973473          05:42  ...       2018-12-21         624\n",
              "4    1016546          06:42  ...       2019-01-11         668\n",
              "..       ...            ...  ...              ...         ...\n",
              "986   362691          05:42  ...       2020-08-14         372\n",
              "987   369684          06:42  ...       2020-08-21         374\n",
              "988   395572          06:42  ...       2020-09-15         624\n",
              "989  1180245          01:42  ...       2019-04-01         372\n",
              "990  1287838          06:42  ...       2019-05-20         375\n",
              "\n",
              "[991 rows x 6 columns]"
            ]
          },
          "metadata": {
            "tags": []
          },
          "execution_count": 21
        }
      ]
    },
    {
      "cell_type": "code",
      "metadata": {
        "id": "cFaaGcZoYEu_"
      },
      "source": [
        "dic=dict()\n",
        "for i in range(0,Delivery_df.shape[0]):\n",
        "  dic[Delivery_df['DE_ID'][i]]=(Delivery_df['SHIFT_END_TIME'][i],Delivery_df['DE_HOME_LAT'][i],Delivery_df['DE_HOME_LNG'][i],Delivery_df['DE_ZONE_ID'][i])\n",
        "     "
      ],
      "execution_count": 22,
      "outputs": []
    },
    {
      "cell_type": "code",
      "metadata": {
        "id": "zRs4UtofZIcv"
      },
      "source": [
        "de_end=list()\n",
        "de_lat=list()\n",
        "de_lng=list()\n",
        "de_zone=list()\n",
        "for i in range(0,len(s6)):\n",
        "  de_end.append(dic[s6[i]][0])\n",
        "  de_lat.append(dic[s6[i]][1])\n",
        "  de_lng.append(dic[s6[i]][2])\n",
        "  de_zone.append(dic[s6[i]][3])"
      ],
      "execution_count": 23,
      "outputs": []
    },
    {
      "cell_type": "code",
      "metadata": {
        "colab": {
          "base_uri": "https://localhost:8080/"
        },
        "id": "xE08A9zHZ2Yr",
        "outputId": "72195a3f-46c8-403b-ac61-524bd0a767c3"
      },
      "source": [
        "feature_df['de_end']=de_end\n",
        "feature_df['de_lat']=de_lat\n",
        "feature_df['de_lng']=de_lng\n",
        "feature_df['de_zone']=de_zone"
      ],
      "execution_count": 24,
      "outputs": [
        {
          "output_type": "stream",
          "text": [
            "/usr/local/lib/python3.7/dist-packages/ipykernel_launcher.py:1: SettingWithCopyWarning: \n",
            "A value is trying to be set on a copy of a slice from a DataFrame.\n",
            "Try using .loc[row_indexer,col_indexer] = value instead\n",
            "\n",
            "See the caveats in the documentation: https://pandas.pydata.org/pandas-docs/stable/user_guide/indexing.html#returning-a-view-versus-a-copy\n",
            "  \"\"\"Entry point for launching an IPython kernel.\n",
            "/usr/local/lib/python3.7/dist-packages/ipykernel_launcher.py:2: SettingWithCopyWarning: \n",
            "A value is trying to be set on a copy of a slice from a DataFrame.\n",
            "Try using .loc[row_indexer,col_indexer] = value instead\n",
            "\n",
            "See the caveats in the documentation: https://pandas.pydata.org/pandas-docs/stable/user_guide/indexing.html#returning-a-view-versus-a-copy\n",
            "  \n",
            "/usr/local/lib/python3.7/dist-packages/ipykernel_launcher.py:3: SettingWithCopyWarning: \n",
            "A value is trying to be set on a copy of a slice from a DataFrame.\n",
            "Try using .loc[row_indexer,col_indexer] = value instead\n",
            "\n",
            "See the caveats in the documentation: https://pandas.pydata.org/pandas-docs/stable/user_guide/indexing.html#returning-a-view-versus-a-copy\n",
            "  This is separate from the ipykernel package so we can avoid doing imports until\n",
            "/usr/local/lib/python3.7/dist-packages/ipykernel_launcher.py:4: SettingWithCopyWarning: \n",
            "A value is trying to be set on a copy of a slice from a DataFrame.\n",
            "Try using .loc[row_indexer,col_indexer] = value instead\n",
            "\n",
            "See the caveats in the documentation: https://pandas.pydata.org/pandas-docs/stable/user_guide/indexing.html#returning-a-view-versus-a-copy\n",
            "  after removing the cwd from sys.path.\n"
          ],
          "name": "stderr"
        }
      ]
    },
    {
      "cell_type": "code",
      "metadata": {
        "colab": {
          "base_uri": "https://localhost:8080/"
        },
        "id": "LBKO-CadCgwr",
        "outputId": "e0adc4dd-720d-41f9-a59e-7d233ca5e200"
      },
      "source": [
        "feature_df.dropna(inplace=True)"
      ],
      "execution_count": 25,
      "outputs": [
        {
          "output_type": "stream",
          "text": [
            "/usr/local/lib/python3.7/dist-packages/ipykernel_launcher.py:1: SettingWithCopyWarning: \n",
            "A value is trying to be set on a copy of a slice from a DataFrame\n",
            "\n",
            "See the caveats in the documentation: https://pandas.pydata.org/pandas-docs/stable/user_guide/indexing.html#returning-a-view-versus-a-copy\n",
            "  \"\"\"Entry point for launching an IPython kernel.\n"
          ],
          "name": "stderr"
        }
      ]
    },
    {
      "cell_type": "code",
      "metadata": {
        "colab": {
          "base_uri": "https://localhost:8080/",
          "height": 437
        },
        "id": "W-oHpE3hC_R6",
        "outputId": "fcb183a4-ce6c-4294-bf9b-d0786fb5635e"
      },
      "source": [
        "feature_df"
      ],
      "execution_count": 26,
      "outputs": [
        {
          "output_type": "execute_result",
          "data": {
            "text/html": [
              "<div>\n",
              "<style scoped>\n",
              "    .dataframe tbody tr th:only-of-type {\n",
              "        vertical-align: middle;\n",
              "    }\n",
              "\n",
              "    .dataframe tbody tr th {\n",
              "        vertical-align: top;\n",
              "    }\n",
              "\n",
              "    .dataframe thead th {\n",
              "        text-align: right;\n",
              "    }\n",
              "</style>\n",
              "<table border=\"1\" class=\"dataframe\">\n",
              "  <thead>\n",
              "    <tr style=\"text-align: right;\">\n",
              "      <th></th>\n",
              "      <th>DE_ID</th>\n",
              "      <th>ASSIGNMENT_START_TIME</th>\n",
              "      <th>reject_ind</th>\n",
              "      <th>LASTMILE_DISTANCE</th>\n",
              "      <th>FIRSTMILE_DISTANCE</th>\n",
              "      <th>LAST_MILE_TIME_PREDICTED</th>\n",
              "      <th>NUM_PING_COUNT_LAST10MIN</th>\n",
              "      <th>CUSTOMER_ZONE</th>\n",
              "      <th>CUSTOMER_LAT</th>\n",
              "      <th>CUSTOMER_LNG</th>\n",
              "      <th>reject_ind_count</th>\n",
              "      <th>count</th>\n",
              "      <th>de_end</th>\n",
              "      <th>de_lat</th>\n",
              "      <th>de_lng</th>\n",
              "      <th>de_zone</th>\n",
              "    </tr>\n",
              "  </thead>\n",
              "  <tbody>\n",
              "    <tr>\n",
              "      <th>0</th>\n",
              "      <td>180976</td>\n",
              "      <td>11304</td>\n",
              "      <td>0</td>\n",
              "      <td>320.9</td>\n",
              "      <td>320.0</td>\n",
              "      <td>314.0</td>\n",
              "      <td>63</td>\n",
              "      <td>373.0</td>\n",
              "      <td>37.377569</td>\n",
              "      <td>72.832560</td>\n",
              "      <td>2</td>\n",
              "      <td>247</td>\n",
              "      <td>05:42</td>\n",
              "      <td>37.374634</td>\n",
              "      <td>72.871986</td>\n",
              "      <td>373</td>\n",
              "    </tr>\n",
              "    <tr>\n",
              "      <th>1</th>\n",
              "      <td>280243</td>\n",
              "      <td>18400</td>\n",
              "      <td>0</td>\n",
              "      <td>516.8</td>\n",
              "      <td>342.5</td>\n",
              "      <td>451.0</td>\n",
              "      <td>27</td>\n",
              "      <td>373.0</td>\n",
              "      <td>37.380613</td>\n",
              "      <td>72.796909</td>\n",
              "      <td>1</td>\n",
              "      <td>179</td>\n",
              "      <td>06:42</td>\n",
              "      <td>37.377694</td>\n",
              "      <td>72.850738</td>\n",
              "      <td>372</td>\n",
              "    </tr>\n",
              "    <tr>\n",
              "      <th>2</th>\n",
              "      <td>339813</td>\n",
              "      <td>8560</td>\n",
              "      <td>0</td>\n",
              "      <td>459.5</td>\n",
              "      <td>418.7</td>\n",
              "      <td>443.0</td>\n",
              "      <td>57</td>\n",
              "      <td>373.0</td>\n",
              "      <td>37.372032</td>\n",
              "      <td>72.805871</td>\n",
              "      <td>4</td>\n",
              "      <td>320</td>\n",
              "      <td>05:42</td>\n",
              "      <td>37.395456</td>\n",
              "      <td>72.872473</td>\n",
              "      <td>372</td>\n",
              "    </tr>\n",
              "    <tr>\n",
              "      <th>3</th>\n",
              "      <td>1315348</td>\n",
              "      <td>10885</td>\n",
              "      <td>0</td>\n",
              "      <td>376.4</td>\n",
              "      <td>332.9</td>\n",
              "      <td>367.3</td>\n",
              "      <td>41</td>\n",
              "      <td>373.0</td>\n",
              "      <td>37.371380</td>\n",
              "      <td>72.819992</td>\n",
              "      <td>17</td>\n",
              "      <td>201</td>\n",
              "      <td>06:42</td>\n",
              "      <td>37.422797</td>\n",
              "      <td>72.824708</td>\n",
              "      <td>372</td>\n",
              "    </tr>\n",
              "    <tr>\n",
              "      <th>4</th>\n",
              "      <td>1186729</td>\n",
              "      <td>11544</td>\n",
              "      <td>0</td>\n",
              "      <td>414.5</td>\n",
              "      <td>334.1</td>\n",
              "      <td>413.2</td>\n",
              "      <td>13</td>\n",
              "      <td>373.0</td>\n",
              "      <td>37.369925</td>\n",
              "      <td>72.826764</td>\n",
              "      <td>62</td>\n",
              "      <td>481</td>\n",
              "      <td>05:42</td>\n",
              "      <td>37.386463</td>\n",
              "      <td>72.854589</td>\n",
              "      <td>372</td>\n",
              "    </tr>\n",
              "    <tr>\n",
              "      <th>...</th>\n",
              "      <td>...</td>\n",
              "      <td>...</td>\n",
              "      <td>...</td>\n",
              "      <td>...</td>\n",
              "      <td>...</td>\n",
              "      <td>...</td>\n",
              "      <td>...</td>\n",
              "      <td>...</td>\n",
              "      <td>...</td>\n",
              "      <td>...</td>\n",
              "      <td>...</td>\n",
              "      <td>...</td>\n",
              "      <td>...</td>\n",
              "      <td>...</td>\n",
              "      <td>...</td>\n",
              "      <td>...</td>\n",
              "    </tr>\n",
              "    <tr>\n",
              "      <th>132389</th>\n",
              "      <td>1273445</td>\n",
              "      <td>25640</td>\n",
              "      <td>0</td>\n",
              "      <td>404.6</td>\n",
              "      <td>434.6</td>\n",
              "      <td>371.8</td>\n",
              "      <td>28</td>\n",
              "      <td>374.0</td>\n",
              "      <td>37.365616</td>\n",
              "      <td>72.835463</td>\n",
              "      <td>3</td>\n",
              "      <td>188</td>\n",
              "      <td>11:42</td>\n",
              "      <td>37.394628</td>\n",
              "      <td>72.782704</td>\n",
              "      <td>372</td>\n",
              "    </tr>\n",
              "    <tr>\n",
              "      <th>132390</th>\n",
              "      <td>234637</td>\n",
              "      <td>25520</td>\n",
              "      <td>1</td>\n",
              "      <td>404.6</td>\n",
              "      <td>444.8</td>\n",
              "      <td>371.8</td>\n",
              "      <td>63</td>\n",
              "      <td>374.0</td>\n",
              "      <td>37.365616</td>\n",
              "      <td>72.835463</td>\n",
              "      <td>20</td>\n",
              "      <td>400</td>\n",
              "      <td>05:42</td>\n",
              "      <td>37.422587</td>\n",
              "      <td>72.838379</td>\n",
              "      <td>375</td>\n",
              "    </tr>\n",
              "    <tr>\n",
              "      <th>132391</th>\n",
              "      <td>1018931</td>\n",
              "      <td>74854</td>\n",
              "      <td>0</td>\n",
              "      <td>475.7</td>\n",
              "      <td>334.7</td>\n",
              "      <td>413.2</td>\n",
              "      <td>8</td>\n",
              "      <td>374.0</td>\n",
              "      <td>37.362292</td>\n",
              "      <td>72.861723</td>\n",
              "      <td>29</td>\n",
              "      <td>240</td>\n",
              "      <td>05:42</td>\n",
              "      <td>37.352210</td>\n",
              "      <td>72.897939</td>\n",
              "      <td>372</td>\n",
              "    </tr>\n",
              "    <tr>\n",
              "      <th>132392</th>\n",
              "      <td>1180245</td>\n",
              "      <td>85040</td>\n",
              "      <td>0</td>\n",
              "      <td>326.6</td>\n",
              "      <td>392.9</td>\n",
              "      <td>317.7</td>\n",
              "      <td>28</td>\n",
              "      <td>374.0</td>\n",
              "      <td>37.365457</td>\n",
              "      <td>72.862098</td>\n",
              "      <td>13</td>\n",
              "      <td>245</td>\n",
              "      <td>01:42</td>\n",
              "      <td>37.380950</td>\n",
              "      <td>72.865009</td>\n",
              "      <td>372</td>\n",
              "    </tr>\n",
              "    <tr>\n",
              "      <th>132393</th>\n",
              "      <td>370946</td>\n",
              "      <td>8961</td>\n",
              "      <td>0</td>\n",
              "      <td>429.5</td>\n",
              "      <td>337.1</td>\n",
              "      <td>396.8</td>\n",
              "      <td>27</td>\n",
              "      <td>374.0</td>\n",
              "      <td>37.371853</td>\n",
              "      <td>72.855686</td>\n",
              "      <td>0</td>\n",
              "      <td>222</td>\n",
              "      <td>05:42</td>\n",
              "      <td>37.390770</td>\n",
              "      <td>72.857926</td>\n",
              "      <td>374</td>\n",
              "    </tr>\n",
              "  </tbody>\n",
              "</table>\n",
              "<p>113726 rows × 16 columns</p>\n",
              "</div>"
            ],
            "text/plain": [
              "          DE_ID  ASSIGNMENT_START_TIME  ...     de_lng  de_zone\n",
              "0        180976                  11304  ...  72.871986      373\n",
              "1        280243                  18400  ...  72.850738      372\n",
              "2        339813                   8560  ...  72.872473      372\n",
              "3       1315348                  10885  ...  72.824708      372\n",
              "4       1186729                  11544  ...  72.854589      372\n",
              "...         ...                    ...  ...        ...      ...\n",
              "132389  1273445                  25640  ...  72.782704      372\n",
              "132390   234637                  25520  ...  72.838379      375\n",
              "132391  1018931                  74854  ...  72.897939      372\n",
              "132392  1180245                  85040  ...  72.865009      372\n",
              "132393   370946                   8961  ...  72.857926      374\n",
              "\n",
              "[113726 rows x 16 columns]"
            ]
          },
          "metadata": {
            "tags": []
          },
          "execution_count": 26
        }
      ]
    },
    {
      "cell_type": "code",
      "metadata": {
        "id": "L7k7yUCLaTVx"
      },
      "source": [
        "def cal3(row):\n",
        "  a1=int(row['de_end'][0:2])\n",
        "  b1=int(row['de_end'][3:5])\n",
        "  z1= a1*3600 + b1*60\n",
        "  return z1"
      ],
      "execution_count": 27,
      "outputs": []
    },
    {
      "cell_type": "code",
      "metadata": {
        "colab": {
          "base_uri": "https://localhost:8080/"
        },
        "id": "6uT4hvsbbBKq",
        "outputId": "4c03bb1d-952e-44e3-e9b7-f4d0353fdab7"
      },
      "source": [
        "feature_df['de_end']=feature_df.apply(lambda row: cal3(row), axis=1)"
      ],
      "execution_count": 28,
      "outputs": [
        {
          "output_type": "stream",
          "text": [
            "/usr/local/lib/python3.7/dist-packages/ipykernel_launcher.py:1: SettingWithCopyWarning: \n",
            "A value is trying to be set on a copy of a slice from a DataFrame.\n",
            "Try using .loc[row_indexer,col_indexer] = value instead\n",
            "\n",
            "See the caveats in the documentation: https://pandas.pydata.org/pandas-docs/stable/user_guide/indexing.html#returning-a-view-versus-a-copy\n",
            "  \"\"\"Entry point for launching an IPython kernel.\n"
          ],
          "name": "stderr"
        }
      ]
    },
    {
      "cell_type": "code",
      "metadata": {
        "id": "LtRIceVCbJlH"
      },
      "source": [
        "def abs_lat(row):\n",
        "  z1=abs(row['CUSTOMER_LAT']-row['de_lat'])\n",
        "  return z1\n",
        "def abs_lng(row):\n",
        "  z1=abs(row['CUSTOMER_LNG']-row['de_lng'])\n",
        "  return z1"
      ],
      "execution_count": 29,
      "outputs": []
    },
    {
      "cell_type": "code",
      "metadata": {
        "colab": {
          "base_uri": "https://localhost:8080/"
        },
        "id": "bAi-9wYocDax",
        "outputId": "809b463b-8edc-4dc3-dd24-880ec7f37bbf"
      },
      "source": [
        "feature_df['abs_lat']=feature_df.apply(lambda row: abs_lat(row), axis=1)\n",
        "feature_df['abs_lng']=feature_df.apply(lambda row: abs_lng(row), axis=1)"
      ],
      "execution_count": 30,
      "outputs": [
        {
          "output_type": "stream",
          "text": [
            "/usr/local/lib/python3.7/dist-packages/ipykernel_launcher.py:1: SettingWithCopyWarning: \n",
            "A value is trying to be set on a copy of a slice from a DataFrame.\n",
            "Try using .loc[row_indexer,col_indexer] = value instead\n",
            "\n",
            "See the caveats in the documentation: https://pandas.pydata.org/pandas-docs/stable/user_guide/indexing.html#returning-a-view-versus-a-copy\n",
            "  \"\"\"Entry point for launching an IPython kernel.\n",
            "/usr/local/lib/python3.7/dist-packages/ipykernel_launcher.py:2: SettingWithCopyWarning: \n",
            "A value is trying to be set on a copy of a slice from a DataFrame.\n",
            "Try using .loc[row_indexer,col_indexer] = value instead\n",
            "\n",
            "See the caveats in the documentation: https://pandas.pydata.org/pandas-docs/stable/user_guide/indexing.html#returning-a-view-versus-a-copy\n",
            "  \n"
          ],
          "name": "stderr"
        }
      ]
    },
    {
      "cell_type": "code",
      "metadata": {
        "colab": {
          "base_uri": "https://localhost:8080/",
          "height": 437
        },
        "id": "tbG3oRyccPhX",
        "outputId": "86d9658d-fc5e-4925-9788-917a92d16c41"
      },
      "source": [
        "feature_df"
      ],
      "execution_count": 31,
      "outputs": [
        {
          "output_type": "execute_result",
          "data": {
            "text/html": [
              "<div>\n",
              "<style scoped>\n",
              "    .dataframe tbody tr th:only-of-type {\n",
              "        vertical-align: middle;\n",
              "    }\n",
              "\n",
              "    .dataframe tbody tr th {\n",
              "        vertical-align: top;\n",
              "    }\n",
              "\n",
              "    .dataframe thead th {\n",
              "        text-align: right;\n",
              "    }\n",
              "</style>\n",
              "<table border=\"1\" class=\"dataframe\">\n",
              "  <thead>\n",
              "    <tr style=\"text-align: right;\">\n",
              "      <th></th>\n",
              "      <th>DE_ID</th>\n",
              "      <th>ASSIGNMENT_START_TIME</th>\n",
              "      <th>reject_ind</th>\n",
              "      <th>LASTMILE_DISTANCE</th>\n",
              "      <th>FIRSTMILE_DISTANCE</th>\n",
              "      <th>LAST_MILE_TIME_PREDICTED</th>\n",
              "      <th>NUM_PING_COUNT_LAST10MIN</th>\n",
              "      <th>CUSTOMER_ZONE</th>\n",
              "      <th>CUSTOMER_LAT</th>\n",
              "      <th>CUSTOMER_LNG</th>\n",
              "      <th>reject_ind_count</th>\n",
              "      <th>count</th>\n",
              "      <th>de_end</th>\n",
              "      <th>de_lat</th>\n",
              "      <th>de_lng</th>\n",
              "      <th>de_zone</th>\n",
              "      <th>abs_lat</th>\n",
              "      <th>abs_lng</th>\n",
              "    </tr>\n",
              "  </thead>\n",
              "  <tbody>\n",
              "    <tr>\n",
              "      <th>0</th>\n",
              "      <td>180976</td>\n",
              "      <td>11304</td>\n",
              "      <td>0</td>\n",
              "      <td>320.9</td>\n",
              "      <td>320.0</td>\n",
              "      <td>314.0</td>\n",
              "      <td>63</td>\n",
              "      <td>373.0</td>\n",
              "      <td>37.377569</td>\n",
              "      <td>72.832560</td>\n",
              "      <td>2</td>\n",
              "      <td>247</td>\n",
              "      <td>20520</td>\n",
              "      <td>37.374634</td>\n",
              "      <td>72.871986</td>\n",
              "      <td>373</td>\n",
              "      <td>0.002935</td>\n",
              "      <td>0.039426</td>\n",
              "    </tr>\n",
              "    <tr>\n",
              "      <th>1</th>\n",
              "      <td>280243</td>\n",
              "      <td>18400</td>\n",
              "      <td>0</td>\n",
              "      <td>516.8</td>\n",
              "      <td>342.5</td>\n",
              "      <td>451.0</td>\n",
              "      <td>27</td>\n",
              "      <td>373.0</td>\n",
              "      <td>37.380613</td>\n",
              "      <td>72.796909</td>\n",
              "      <td>1</td>\n",
              "      <td>179</td>\n",
              "      <td>24120</td>\n",
              "      <td>37.377694</td>\n",
              "      <td>72.850738</td>\n",
              "      <td>372</td>\n",
              "      <td>0.002920</td>\n",
              "      <td>0.053829</td>\n",
              "    </tr>\n",
              "    <tr>\n",
              "      <th>2</th>\n",
              "      <td>339813</td>\n",
              "      <td>8560</td>\n",
              "      <td>0</td>\n",
              "      <td>459.5</td>\n",
              "      <td>418.7</td>\n",
              "      <td>443.0</td>\n",
              "      <td>57</td>\n",
              "      <td>373.0</td>\n",
              "      <td>37.372032</td>\n",
              "      <td>72.805871</td>\n",
              "      <td>4</td>\n",
              "      <td>320</td>\n",
              "      <td>20520</td>\n",
              "      <td>37.395456</td>\n",
              "      <td>72.872473</td>\n",
              "      <td>372</td>\n",
              "      <td>0.023424</td>\n",
              "      <td>0.066602</td>\n",
              "    </tr>\n",
              "    <tr>\n",
              "      <th>3</th>\n",
              "      <td>1315348</td>\n",
              "      <td>10885</td>\n",
              "      <td>0</td>\n",
              "      <td>376.4</td>\n",
              "      <td>332.9</td>\n",
              "      <td>367.3</td>\n",
              "      <td>41</td>\n",
              "      <td>373.0</td>\n",
              "      <td>37.371380</td>\n",
              "      <td>72.819992</td>\n",
              "      <td>17</td>\n",
              "      <td>201</td>\n",
              "      <td>24120</td>\n",
              "      <td>37.422797</td>\n",
              "      <td>72.824708</td>\n",
              "      <td>372</td>\n",
              "      <td>0.051417</td>\n",
              "      <td>0.004717</td>\n",
              "    </tr>\n",
              "    <tr>\n",
              "      <th>4</th>\n",
              "      <td>1186729</td>\n",
              "      <td>11544</td>\n",
              "      <td>0</td>\n",
              "      <td>414.5</td>\n",
              "      <td>334.1</td>\n",
              "      <td>413.2</td>\n",
              "      <td>13</td>\n",
              "      <td>373.0</td>\n",
              "      <td>37.369925</td>\n",
              "      <td>72.826764</td>\n",
              "      <td>62</td>\n",
              "      <td>481</td>\n",
              "      <td>20520</td>\n",
              "      <td>37.386463</td>\n",
              "      <td>72.854589</td>\n",
              "      <td>372</td>\n",
              "      <td>0.016538</td>\n",
              "      <td>0.027824</td>\n",
              "    </tr>\n",
              "    <tr>\n",
              "      <th>...</th>\n",
              "      <td>...</td>\n",
              "      <td>...</td>\n",
              "      <td>...</td>\n",
              "      <td>...</td>\n",
              "      <td>...</td>\n",
              "      <td>...</td>\n",
              "      <td>...</td>\n",
              "      <td>...</td>\n",
              "      <td>...</td>\n",
              "      <td>...</td>\n",
              "      <td>...</td>\n",
              "      <td>...</td>\n",
              "      <td>...</td>\n",
              "      <td>...</td>\n",
              "      <td>...</td>\n",
              "      <td>...</td>\n",
              "      <td>...</td>\n",
              "      <td>...</td>\n",
              "    </tr>\n",
              "    <tr>\n",
              "      <th>132389</th>\n",
              "      <td>1273445</td>\n",
              "      <td>25640</td>\n",
              "      <td>0</td>\n",
              "      <td>404.6</td>\n",
              "      <td>434.6</td>\n",
              "      <td>371.8</td>\n",
              "      <td>28</td>\n",
              "      <td>374.0</td>\n",
              "      <td>37.365616</td>\n",
              "      <td>72.835463</td>\n",
              "      <td>3</td>\n",
              "      <td>188</td>\n",
              "      <td>42120</td>\n",
              "      <td>37.394628</td>\n",
              "      <td>72.782704</td>\n",
              "      <td>372</td>\n",
              "      <td>0.029012</td>\n",
              "      <td>0.052759</td>\n",
              "    </tr>\n",
              "    <tr>\n",
              "      <th>132390</th>\n",
              "      <td>234637</td>\n",
              "      <td>25520</td>\n",
              "      <td>1</td>\n",
              "      <td>404.6</td>\n",
              "      <td>444.8</td>\n",
              "      <td>371.8</td>\n",
              "      <td>63</td>\n",
              "      <td>374.0</td>\n",
              "      <td>37.365616</td>\n",
              "      <td>72.835463</td>\n",
              "      <td>20</td>\n",
              "      <td>400</td>\n",
              "      <td>20520</td>\n",
              "      <td>37.422587</td>\n",
              "      <td>72.838379</td>\n",
              "      <td>375</td>\n",
              "      <td>0.056971</td>\n",
              "      <td>0.002916</td>\n",
              "    </tr>\n",
              "    <tr>\n",
              "      <th>132391</th>\n",
              "      <td>1018931</td>\n",
              "      <td>74854</td>\n",
              "      <td>0</td>\n",
              "      <td>475.7</td>\n",
              "      <td>334.7</td>\n",
              "      <td>413.2</td>\n",
              "      <td>8</td>\n",
              "      <td>374.0</td>\n",
              "      <td>37.362292</td>\n",
              "      <td>72.861723</td>\n",
              "      <td>29</td>\n",
              "      <td>240</td>\n",
              "      <td>20520</td>\n",
              "      <td>37.352210</td>\n",
              "      <td>72.897939</td>\n",
              "      <td>372</td>\n",
              "      <td>0.010082</td>\n",
              "      <td>0.036217</td>\n",
              "    </tr>\n",
              "    <tr>\n",
              "      <th>132392</th>\n",
              "      <td>1180245</td>\n",
              "      <td>85040</td>\n",
              "      <td>0</td>\n",
              "      <td>326.6</td>\n",
              "      <td>392.9</td>\n",
              "      <td>317.7</td>\n",
              "      <td>28</td>\n",
              "      <td>374.0</td>\n",
              "      <td>37.365457</td>\n",
              "      <td>72.862098</td>\n",
              "      <td>13</td>\n",
              "      <td>245</td>\n",
              "      <td>6120</td>\n",
              "      <td>37.380950</td>\n",
              "      <td>72.865009</td>\n",
              "      <td>372</td>\n",
              "      <td>0.015493</td>\n",
              "      <td>0.002911</td>\n",
              "    </tr>\n",
              "    <tr>\n",
              "      <th>132393</th>\n",
              "      <td>370946</td>\n",
              "      <td>8961</td>\n",
              "      <td>0</td>\n",
              "      <td>429.5</td>\n",
              "      <td>337.1</td>\n",
              "      <td>396.8</td>\n",
              "      <td>27</td>\n",
              "      <td>374.0</td>\n",
              "      <td>37.371853</td>\n",
              "      <td>72.855686</td>\n",
              "      <td>0</td>\n",
              "      <td>222</td>\n",
              "      <td>20520</td>\n",
              "      <td>37.390770</td>\n",
              "      <td>72.857926</td>\n",
              "      <td>374</td>\n",
              "      <td>0.018917</td>\n",
              "      <td>0.002240</td>\n",
              "    </tr>\n",
              "  </tbody>\n",
              "</table>\n",
              "<p>113726 rows × 18 columns</p>\n",
              "</div>"
            ],
            "text/plain": [
              "          DE_ID  ASSIGNMENT_START_TIME  reject_ind  ...  de_zone   abs_lat   abs_lng\n",
              "0        180976                  11304           0  ...      373  0.002935  0.039426\n",
              "1        280243                  18400           0  ...      372  0.002920  0.053829\n",
              "2        339813                   8560           0  ...      372  0.023424  0.066602\n",
              "3       1315348                  10885           0  ...      372  0.051417  0.004717\n",
              "4       1186729                  11544           0  ...      372  0.016538  0.027824\n",
              "...         ...                    ...         ...  ...      ...       ...       ...\n",
              "132389  1273445                  25640           0  ...      372  0.029012  0.052759\n",
              "132390   234637                  25520           1  ...      375  0.056971  0.002916\n",
              "132391  1018931                  74854           0  ...      372  0.010082  0.036217\n",
              "132392  1180245                  85040           0  ...      372  0.015493  0.002911\n",
              "132393   370946                   8961           0  ...      374  0.018917  0.002240\n",
              "\n",
              "[113726 rows x 18 columns]"
            ]
          },
          "metadata": {
            "tags": []
          },
          "execution_count": 31
        }
      ]
    },
    {
      "cell_type": "code",
      "metadata": {
        "id": "u7pZz1ZD98Wn"
      },
      "source": [
        "y=feature_df['reject_ind'].values\n",
        "X=feature_df.iloc[:,[1,3,4,5,6,7,10,11,12,15,16,17]].values"
      ],
      "execution_count": 32,
      "outputs": []
    },
    {
      "cell_type": "code",
      "metadata": {
        "id": "9-Xei22x-g3o"
      },
      "source": [
        "from sklearn.model_selection import train_test_split\n",
        "train_X, test_X, train_y, test_y=train_test_split(X,y,test_size=0.2,random_state=0)"
      ],
      "execution_count": 107,
      "outputs": []
    },
    {
      "cell_type": "code",
      "metadata": {
        "id": "U4WFxlCa-x7X"
      },
      "source": [
        "# train_y=train_y.reshape(-1, 1)"
      ],
      "execution_count": 162,
      "outputs": []
    },
    {
      "cell_type": "code",
      "metadata": {
        "id": "4vVSV0Ax-6Pa"
      },
      "source": [
        "from sklearn.preprocessing import StandardScaler\n",
        "sc_X = StandardScaler()\n",
        "sc_y = StandardScaler()\n",
        "train_X = sc_X.fit_transform(train_X)\n",
        "test_X = sc_X.fit_transform(test_X)"
      ],
      "execution_count": 118,
      "outputs": []
    },
    {
      "cell_type": "code",
      "metadata": {
        "id": "3_3V5Qed_Kld"
      },
      "source": [
        "from xgboost import XGBClassifier\n",
        "from sklearn.svm import SVC\n",
        "from sklearn.model_selection import GridSearchCV"
      ],
      "execution_count": 36,
      "outputs": []
    },
    {
      "cell_type": "code",
      "metadata": {
        "colab": {
          "base_uri": "https://localhost:8080/"
        },
        "id": "neFnS6GFik5F",
        "outputId": "2d89424f-6e45-49bb-c688-90c3ff5a1d29"
      },
      "source": [
        "XGBClassifier()"
      ],
      "execution_count": 40,
      "outputs": [
        {
          "output_type": "execute_result",
          "data": {
            "text/plain": [
              "XGBClassifier(base_score=0.5, booster='gbtree', colsample_bylevel=1,\n",
              "              colsample_bynode=1, colsample_bytree=1, gamma=0,\n",
              "              learning_rate=0.1, max_delta_step=0, max_depth=3,\n",
              "              min_child_weight=1, missing=None, n_estimators=100, n_jobs=1,\n",
              "              nthread=None, objective='binary:logistic', random_state=0,\n",
              "              reg_alpha=0, reg_lambda=1, scale_pos_weight=1, seed=None,\n",
              "              silent=None, subsample=1, verbosity=1)"
            ]
          },
          "metadata": {
            "tags": []
          },
          "execution_count": 40
        }
      ]
    },
    {
      "cell_type": "code",
      "metadata": {
        "colab": {
          "base_uri": "https://localhost:8080/"
        },
        "id": "GQ-nsTk2Bxo5",
        "outputId": "56899161-58d6-4ba5-da8b-deb20c89a331"
      },
      "source": [
        "Model=XGBClassifier(max_depth=25,learning_rate=0.1,min_child_weight=1,subsample=0.65,n_estimators=150)\n",
        "Model.fit(train_X,train_y)"
      ],
      "execution_count": 145,
      "outputs": [
        {
          "output_type": "execute_result",
          "data": {
            "text/plain": [
              "XGBClassifier(base_score=0.5, booster='gbtree', colsample_bylevel=1,\n",
              "              colsample_bynode=1, colsample_bytree=1, gamma=0,\n",
              "              learning_rate=0.1, max_delta_step=0, max_depth=25,\n",
              "              min_child_weight=1, missing=None, n_estimators=150, n_jobs=1,\n",
              "              nthread=None, objective='binary:logistic', random_state=0,\n",
              "              reg_alpha=0, reg_lambda=1, scale_pos_weight=1, seed=None,\n",
              "              silent=None, subsample=0.65, verbosity=1)"
            ]
          },
          "metadata": {
            "tags": []
          },
          "execution_count": 145
        }
      ]
    },
    {
      "cell_type": "code",
      "metadata": {
        "id": "Sz9KKZVnCG-K"
      },
      "source": [
        "pred_y=Model.predict(test_X)"
      ],
      "execution_count": 146,
      "outputs": []
    },
    {
      "cell_type": "code",
      "metadata": {
        "id": "rLpXBwhbjFDs"
      },
      "source": [
        "from sklearn.metrics import classification_report"
      ],
      "execution_count": 93,
      "outputs": []
    },
    {
      "cell_type": "code",
      "metadata": {
        "colab": {
          "base_uri": "https://localhost:8080/"
        },
        "id": "qlVwS3SZjPvg",
        "outputId": "9adf2370-452d-4730-df76-e83a9691e48a"
      },
      "source": [
        "print(classification_report(test_y,pred_y))"
      ],
      "execution_count": 147,
      "outputs": [
        {
          "output_type": "stream",
          "text": [
            "              precision    recall  f1-score   support\n",
            "\n",
            "           0       0.96      1.00      0.98     21486\n",
            "           1       0.85      0.28      0.42      1260\n",
            "\n",
            "    accuracy                           0.96     22746\n",
            "   macro avg       0.90      0.64      0.70     22746\n",
            "weighted avg       0.95      0.96      0.95     22746\n",
            "\n"
          ],
          "name": "stdout"
        }
      ]
    },
    {
      "cell_type": "markdown",
      "metadata": {
        "id": "odn_PTSQGLyi"
      },
      "source": [
        "0 class is for accepted orders and 1 is for rejected"
      ]
    },
    {
      "cell_type": "markdown",
      "metadata": {
        "id": "AQIUo1l4Dii5"
      },
      "source": [
        "**I have applied a model that tries to predict whether a DE will reject the order or not. Now we can avoid rejection of orders by checking in advance. We can give order to the DE who accepts the order with most probability. Probability Can be calculated by predict_proba().**\n",
        "\n",
        "# Challenges with model\n",
        "**If we check by bruteforce every DE to calculate max probability it can take time.\n",
        "To solve this we can set a cutoff, first DE above this cutoff is assigned the order.**\n"
      ]
    }
  ]
}